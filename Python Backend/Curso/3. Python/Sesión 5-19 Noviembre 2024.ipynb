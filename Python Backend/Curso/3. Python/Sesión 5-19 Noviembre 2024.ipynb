{
 "cells": [
  {
   "cell_type": "markdown",
   "metadata": {},
   "source": [
    "# Introducción a Python"
   ]
  },
  {
   "cell_type": "markdown",
   "metadata": {
    "id": "mprEtwwemnLz"
   },
   "source": [
    "### Hola Mundo"
   ]
  },
  {
   "cell_type": "code",
   "execution_count": 1,
   "metadata": {
    "colab": {
     "base_uri": "https://localhost:8080/"
    },
    "executionInfo": {
     "elapsed": 175,
     "status": "ok",
     "timestamp": 1732057464689,
     "user": {
      "displayName": "José Gilberto Guzmán Gutiérrez",
      "userId": "01573651180812117286"
     },
     "user_tz": 360
    },
    "id": "ZvePZrezmkHH",
    "outputId": "42c7c2e5-2d5d-486b-b539-65d95ad961e0"
   },
   "outputs": [
    {
     "name": "stdout",
     "output_type": "stream",
     "text": [
      "Hola Mundo\n",
      "Hi World I'm Happy\n",
      "Hi World I'm Happy\n"
     ]
    }
   ],
   "source": [
    "print('Hola Mundo')\n",
    "\n",
    "print('Hi World I\\'m Happy')\n",
    "\n",
    "print(\"Hi World I'm Happy\")"
   ]
  },
  {
   "cell_type": "markdown",
   "metadata": {
    "id": "LuKsEBpFsHPp"
   },
   "source": [
    "### Strings"
   ]
  },
  {
   "cell_type": "code",
   "execution_count": 2,
   "metadata": {
    "colab": {
     "base_uri": "https://localhost:8080/",
     "height": 36
    },
    "executionInfo": {
     "elapsed": 141,
     "status": "ok",
     "timestamp": 1732057806645,
     "user": {
      "displayName": "José Gilberto Guzmán Gutiérrez",
      "userId": "01573651180812117286"
     },
     "user_tz": 360
    },
    "id": "JcVMzVeEsJNw",
    "outputId": "a214d67d-0bbe-444b-fe60-f427e30e15a0"
   },
   "outputs": [
    {
     "data": {
      "text/plain": [
       "'Hello World'"
      ]
     },
     "execution_count": 2,
     "metadata": {},
     "output_type": "execute_result"
    }
   ],
   "source": [
    "\"Hello World\""
   ]
  },
  {
   "cell_type": "code",
   "execution_count": 3,
   "metadata": {
    "colab": {
     "base_uri": "https://localhost:8080/",
     "height": 36
    },
    "executionInfo": {
     "elapsed": 149,
     "status": "ok",
     "timestamp": 1732057834465,
     "user": {
      "displayName": "José Gilberto Guzmán Gutiérrez",
      "userId": "01573651180812117286"
     },
     "user_tz": 360
    },
    "id": "AC2NboiysLxF",
    "outputId": "45a579fc-5588-4567-8e3b-664789a6a5ba"
   },
   "outputs": [
    {
     "data": {
      "text/plain": [
       "'Mi nombre es Gilberto'"
      ]
     },
     "execution_count": 3,
     "metadata": {},
     "output_type": "execute_result"
    }
   ],
   "source": [
    "\"Mi nombre es Gilberto\""
   ]
  },
  {
   "cell_type": "code",
   "execution_count": 4,
   "metadata": {
    "colab": {
     "base_uri": "https://localhost:8080/",
     "height": 36
    },
    "executionInfo": {
     "elapsed": 178,
     "status": "ok",
     "timestamp": 1732057842320,
     "user": {
      "displayName": "José Gilberto Guzmán Gutiérrez",
      "userId": "01573651180812117286"
     },
     "user_tz": 360
    },
    "id": "F484IvEAsSqj",
    "outputId": "25446496-fe52-44e3-d06f-26b5be2c1c46"
   },
   "outputs": [
    {
     "data": {
      "text/plain": [
       "'101'"
      ]
     },
     "execution_count": 4,
     "metadata": {},
     "output_type": "execute_result"
    }
   ],
   "source": [
    "\"101\""
   ]
  },
  {
   "cell_type": "code",
   "execution_count": 5,
   "metadata": {
    "id": "yjR-BRnFsleD"
   },
   "outputs": [],
   "source": [
    "### Int"
   ]
  },
  {
   "cell_type": "code",
   "execution_count": 6,
   "metadata": {
    "colab": {
     "base_uri": "https://localhost:8080/"
    },
    "executionInfo": {
     "elapsed": 179,
     "status": "ok",
     "timestamp": 1732057927570,
     "user": {
      "displayName": "José Gilberto Guzmán Gutiérrez",
      "userId": "01573651180812117286"
     },
     "user_tz": 360
    },
    "id": "Xs05PzzIsnPE",
    "outputId": "702315b5-f09e-4923-d7f4-61a99197ee54"
   },
   "outputs": [
    {
     "data": {
      "text/plain": [
       "5"
      ]
     },
     "execution_count": 6,
     "metadata": {},
     "output_type": "execute_result"
    }
   ],
   "source": [
    "5"
   ]
  },
  {
   "cell_type": "code",
   "execution_count": 7,
   "metadata": {
    "colab": {
     "base_uri": "https://localhost:8080/"
    },
    "executionInfo": {
     "elapsed": 2,
     "status": "ok",
     "timestamp": 1732057929425,
     "user": {
      "displayName": "José Gilberto Guzmán Gutiérrez",
      "userId": "01573651180812117286"
     },
     "user_tz": 360
    },
    "id": "sXBOZkQasoJY",
    "outputId": "686812e6-1d19-4bca-9496-827fced82468"
   },
   "outputs": [
    {
     "data": {
      "text/plain": [
       "24"
      ]
     },
     "execution_count": 7,
     "metadata": {},
     "output_type": "execute_result"
    }
   ],
   "source": [
    "24"
   ]
  },
  {
   "cell_type": "code",
   "execution_count": 8,
   "metadata": {
    "colab": {
     "base_uri": "https://localhost:8080/"
    },
    "executionInfo": {
     "elapsed": 162,
     "status": "ok",
     "timestamp": 1732057933201,
     "user": {
      "displayName": "José Gilberto Guzmán Gutiérrez",
      "userId": "01573651180812117286"
     },
     "user_tz": 360
    },
    "id": "AQJ5u3Brspy_",
    "outputId": "4fd50fc8-1847-4928-aeb4-a341b02974cb"
   },
   "outputs": [
    {
     "data": {
      "text/plain": [
       "12312345"
      ]
     },
     "execution_count": 8,
     "metadata": {},
     "output_type": "execute_result"
    }
   ],
   "source": [
    "12312345"
   ]
  },
  {
   "cell_type": "markdown",
   "metadata": {
    "id": "RviD00hFsvLO"
   },
   "source": [
    "### Floats"
   ]
  },
  {
   "cell_type": "code",
   "execution_count": 9,
   "metadata": {
    "colab": {
     "base_uri": "https://localhost:8080/"
    },
    "executionInfo": {
     "elapsed": 275,
     "status": "ok",
     "timestamp": 1732057966808,
     "user": {
      "displayName": "José Gilberto Guzmán Gutiérrez",
      "userId": "01573651180812117286"
     },
     "user_tz": 360
    },
    "id": "ImJGcRaXswrJ",
    "outputId": "c8e23e80-4ef9-4d6c-c0e8-79a2bbb91ebf"
   },
   "outputs": [
    {
     "data": {
      "text/plain": [
       "3.1416"
      ]
     },
     "execution_count": 9,
     "metadata": {},
     "output_type": "execute_result"
    }
   ],
   "source": [
    "3.1416"
   ]
  },
  {
   "cell_type": "code",
   "execution_count": 10,
   "metadata": {
    "colab": {
     "base_uri": "https://localhost:8080/"
    },
    "executionInfo": {
     "elapsed": 133,
     "status": "ok",
     "timestamp": 1732057970841,
     "user": {
      "displayName": "José Gilberto Guzmán Gutiérrez",
      "userId": "01573651180812117286"
     },
     "user_tz": 360
    },
    "id": "iV5OpiTjsy0e",
    "outputId": "26c69143-b5c4-4bcf-d384-b8f7fe0c55e6"
   },
   "outputs": [
    {
     "data": {
      "text/plain": [
       "1.0"
      ]
     },
     "execution_count": 10,
     "metadata": {},
     "output_type": "execute_result"
    }
   ],
   "source": [
    "1.0"
   ]
  },
  {
   "cell_type": "code",
   "execution_count": 11,
   "metadata": {
    "colab": {
     "base_uri": "https://localhost:8080/"
    },
    "executionInfo": {
     "elapsed": 133,
     "status": "ok",
     "timestamp": 1732057980834,
     "user": {
      "displayName": "José Gilberto Guzmán Gutiérrez",
      "userId": "01573651180812117286"
     },
     "user_tz": 360
    },
    "id": "R9hGeSnNs0u7",
    "outputId": "c2e17efd-734a-49da-9ecf-f384eec29efd"
   },
   "outputs": [
    {
     "data": {
      "text/plain": [
       "2.22"
      ]
     },
     "execution_count": 11,
     "metadata": {},
     "output_type": "execute_result"
    }
   ],
   "source": [
    "2.22"
   ]
  },
  {
   "cell_type": "markdown",
   "metadata": {
    "id": "D9PEwEp1tyZe"
   },
   "source": [
    "### Booleans"
   ]
  },
  {
   "cell_type": "code",
   "execution_count": 12,
   "metadata": {
    "colab": {
     "base_uri": "https://localhost:8080/"
    },
    "executionInfo": {
     "elapsed": 139,
     "status": "ok",
     "timestamp": 1732058245498,
     "user": {
      "displayName": "José Gilberto Guzmán Gutiérrez",
      "userId": "01573651180812117286"
     },
     "user_tz": 360
    },
    "id": "nBYJRn-It07G",
    "outputId": "40e56e40-4466-4f71-9bd1-71205af99cd2"
   },
   "outputs": [
    {
     "data": {
      "text/plain": [
       "True"
      ]
     },
     "execution_count": 12,
     "metadata": {},
     "output_type": "execute_result"
    }
   ],
   "source": [
    "True"
   ]
  },
  {
   "cell_type": "code",
   "execution_count": 13,
   "metadata": {
    "colab": {
     "base_uri": "https://localhost:8080/"
    },
    "executionInfo": {
     "elapsed": 162,
     "status": "ok",
     "timestamp": 1732058247825,
     "user": {
      "displayName": "José Gilberto Guzmán Gutiérrez",
      "userId": "01573651180812117286"
     },
     "user_tz": 360
    },
    "id": "yoFcB1u7t1nj",
    "outputId": "96ab2f8b-25ca-4347-8dbe-43fe71b598a4"
   },
   "outputs": [
    {
     "data": {
      "text/plain": [
       "False"
      ]
     },
     "execution_count": 13,
     "metadata": {},
     "output_type": "execute_result"
    }
   ],
   "source": [
    "False"
   ]
  },
  {
   "cell_type": "markdown",
   "metadata": {
    "id": "KW7cn0xyt3u0"
   },
   "source": [
    "### Variables"
   ]
  },
  {
   "cell_type": "code",
   "execution_count": 14,
   "metadata": {
    "colab": {
     "base_uri": "https://localhost:8080/"
    },
    "executionInfo": {
     "elapsed": 119,
     "status": "ok",
     "timestamp": 1732058282376,
     "user": {
      "displayName": "José Gilberto Guzmán Gutiérrez",
      "userId": "01573651180812117286"
     },
     "user_tz": 360
    },
    "id": "gPIphHQGt5Wj",
    "outputId": "072866ed-2cd0-4a1e-9bd5-e359a233fafa"
   },
   "outputs": [
    {
     "data": {
      "text/plain": [
       "12"
      ]
     },
     "execution_count": 14,
     "metadata": {},
     "output_type": "execute_result"
    }
   ],
   "source": [
    "mensaje = \"Hola a todos\"\n",
    "len(mensaje)"
   ]
  },
  {
   "cell_type": "code",
   "execution_count": 15,
   "metadata": {
    "executionInfo": {
     "elapsed": 170,
     "status": "ok",
     "timestamp": 1732058375339,
     "user": {
      "displayName": "José Gilberto Guzmán Gutiérrez",
      "userId": "01573651180812117286"
     },
     "user_tz": 360
    },
    "id": "K5WhoT6GuKQA"
   },
   "outputs": [],
   "source": [
    "numero_uno = 1\n",
    "numero_dos = 2"
   ]
  },
  {
   "cell_type": "markdown",
   "metadata": {
    "id": "RSDIVpTruCOk"
   },
   "source": [
    "### Operadores aritmeticos"
   ]
  },
  {
   "cell_type": "markdown",
   "metadata": {
    "id": "Am40InOJuuog"
   },
   "source": [
    "#### Suma"
   ]
  },
  {
   "cell_type": "code",
   "execution_count": 16,
   "metadata": {
    "colab": {
     "base_uri": "https://localhost:8080/"
    },
    "executionInfo": {
     "elapsed": 173,
     "status": "ok",
     "timestamp": 1732058321549,
     "user": {
      "displayName": "José Gilberto Guzmán Gutiérrez",
      "userId": "01573651180812117286"
     },
     "user_tz": 360
    },
    "id": "sxBm7VihuHJK",
    "outputId": "6fe21c27-7091-4cd3-bdcd-85a159160c26"
   },
   "outputs": [
    {
     "data": {
      "text/plain": [
       "30"
      ]
     },
     "execution_count": 16,
     "metadata": {},
     "output_type": "execute_result"
    }
   ],
   "source": [
    "10 + 20"
   ]
  },
  {
   "cell_type": "code",
   "execution_count": 17,
   "metadata": {
    "colab": {
     "base_uri": "https://localhost:8080/"
    },
    "executionInfo": {
     "elapsed": 141,
     "status": "ok",
     "timestamp": 1732058376370,
     "user": {
      "displayName": "José Gilberto Guzmán Gutiérrez",
      "userId": "01573651180812117286"
     },
     "user_tz": 360
    },
    "id": "CZps2I-DuSav",
    "outputId": "4923c625-380a-471b-a46b-79916e86be27"
   },
   "outputs": [
    {
     "data": {
      "text/plain": [
       "3"
      ]
     },
     "execution_count": 17,
     "metadata": {},
     "output_type": "execute_result"
    }
   ],
   "source": [
    "numero_uno + numero_dos"
   ]
  },
  {
   "cell_type": "code",
   "execution_count": 18,
   "metadata": {
    "executionInfo": {
     "elapsed": 116,
     "status": "ok",
     "timestamp": 1732058399206,
     "user": {
      "displayName": "José Gilberto Guzmán Gutiérrez",
      "userId": "01573651180812117286"
     },
     "user_tz": 360
    },
    "id": "baF3_2qGuYVB"
   },
   "outputs": [],
   "source": [
    "resultado_suma = numero_uno + numero_dos"
   ]
  },
  {
   "cell_type": "code",
   "execution_count": 19,
   "metadata": {
    "colab": {
     "base_uri": "https://localhost:8080/"
    },
    "executionInfo": {
     "elapsed": 128,
     "status": "ok",
     "timestamp": 1732058414767,
     "user": {
      "displayName": "José Gilberto Guzmán Gutiérrez",
      "userId": "01573651180812117286"
     },
     "user_tz": 360
    },
    "id": "9pz5bOuEueGW",
    "outputId": "56366eb9-0c7e-4af3-da56-09eb0b9bfbc7"
   },
   "outputs": [
    {
     "name": "stdout",
     "output_type": "stream",
     "text": [
      "3\n"
     ]
    }
   ],
   "source": [
    "print(resultado_suma)"
   ]
  },
  {
   "cell_type": "markdown",
   "metadata": {
    "id": "PbxWOR-euwpQ"
   },
   "source": [
    "#### Resta"
   ]
  },
  {
   "cell_type": "code",
   "execution_count": 20,
   "metadata": {
    "colab": {
     "base_uri": "https://localhost:8080/"
    },
    "executionInfo": {
     "elapsed": 202,
     "status": "ok",
     "timestamp": 1732058548778,
     "user": {
      "displayName": "José Gilberto Guzmán Gutiérrez",
      "userId": "01573651180812117286"
     },
     "user_tz": 360
    },
    "id": "8k-EypX2ux7V",
    "outputId": "4d2b7bf0-ccf9-4c82-8585-2f2b9d90482a"
   },
   "outputs": [
    {
     "data": {
      "text/plain": [
       "1"
      ]
     },
     "execution_count": 20,
     "metadata": {},
     "output_type": "execute_result"
    }
   ],
   "source": [
    "numero_dos - numero_uno\n"
   ]
  },
  {
   "cell_type": "code",
   "execution_count": 21,
   "metadata": {
    "colab": {
     "base_uri": "https://localhost:8080/"
    },
    "executionInfo": {
     "elapsed": 174,
     "status": "ok",
     "timestamp": 1732058596813,
     "user": {
      "displayName": "José Gilberto Guzmán Gutiérrez",
      "userId": "01573651180812117286"
     },
     "user_tz": 360
    },
    "id": "hdaXAxuavEVH",
    "outputId": "99e4d5d5-d8c5-4e0a-d85a-36a7a57af10f"
   },
   "outputs": [
    {
     "data": {
      "text/plain": [
       "int"
      ]
     },
     "execution_count": 21,
     "metadata": {},
     "output_type": "execute_result"
    }
   ],
   "source": [
    "resultado_negativo = numero_uno - numero_dos\n",
    "type(resultado_negativo)"
   ]
  },
  {
   "cell_type": "markdown",
   "metadata": {
    "id": "68FlJ_7IvNTS"
   },
   "source": [
    "#### Multiplicación"
   ]
  },
  {
   "cell_type": "code",
   "execution_count": 22,
   "metadata": {
    "colab": {
     "base_uri": "https://localhost:8080/"
    },
    "executionInfo": {
     "elapsed": 124,
     "status": "ok",
     "timestamp": 1732058622402,
     "user": {
      "displayName": "José Gilberto Guzmán Gutiérrez",
      "userId": "01573651180812117286"
     },
     "user_tz": 360
    },
    "id": "lcLKll17vPiv",
    "outputId": "df977060-243b-4f13-9eff-13197c43e0f3"
   },
   "outputs": [
    {
     "data": {
      "text/plain": [
       "2"
      ]
     },
     "execution_count": 22,
     "metadata": {},
     "output_type": "execute_result"
    }
   ],
   "source": [
    "numero_uno * numero_dos"
   ]
  },
  {
   "cell_type": "code",
   "execution_count": 23,
   "metadata": {
    "colab": {
     "base_uri": "https://localhost:8080/"
    },
    "executionInfo": {
     "elapsed": 107,
     "status": "ok",
     "timestamp": 1732058635616,
     "user": {
      "displayName": "José Gilberto Guzmán Gutiérrez",
      "userId": "01573651180812117286"
     },
     "user_tz": 360
    },
    "id": "MN10sksivULZ",
    "outputId": "ca58378a-dd1f-4c3e-b7fb-8bbebf9f8e59"
   },
   "outputs": [
    {
     "data": {
      "text/plain": [
       "2"
      ]
     },
     "execution_count": 23,
     "metadata": {},
     "output_type": "execute_result"
    }
   ],
   "source": [
    "numero_uno*numero_dos"
   ]
  },
  {
   "cell_type": "markdown",
   "metadata": {
    "id": "wCwj4kQQvWSc"
   },
   "source": [
    "#### División\n",
    "\n",
    "> Agregar bloque entrecomillado\n",
    "\n"
   ]
  },
  {
   "cell_type": "code",
   "execution_count": 24,
   "metadata": {
    "colab": {
     "base_uri": "https://localhost:8080/"
    },
    "executionInfo": {
     "elapsed": 137,
     "status": "ok",
     "timestamp": 1732058657243,
     "user": {
      "displayName": "José Gilberto Guzmán Gutiérrez",
      "userId": "01573651180812117286"
     },
     "user_tz": 360
    },
    "id": "v_SbaF8mvYJX",
    "outputId": "b8f1c1fe-8115-4cdc-8040-f5d66d6d8019"
   },
   "outputs": [
    {
     "data": {
      "text/plain": [
       "0.5"
      ]
     },
     "execution_count": 24,
     "metadata": {},
     "output_type": "execute_result"
    }
   ],
   "source": [
    "numero_uno / numero_dos"
   ]
  },
  {
   "cell_type": "markdown",
   "metadata": {
    "id": "3sPxf7a7vc8K"
   },
   "source": [
    "#### Modulo"
   ]
  },
  {
   "cell_type": "code",
   "execution_count": 25,
   "metadata": {
    "colab": {
     "base_uri": "https://localhost:8080/"
    },
    "executionInfo": {
     "elapsed": 139,
     "status": "ok",
     "timestamp": 1732058715872,
     "user": {
      "displayName": "José Gilberto Guzmán Gutiérrez",
      "userId": "01573651180812117286"
     },
     "user_tz": 360
    },
    "id": "VZB3lZzDvby2",
    "outputId": "f1644d01-e7ea-4d15-e232-95bfce081252"
   },
   "outputs": [
    {
     "data": {
      "text/plain": [
       "1"
      ]
     },
     "execution_count": 25,
     "metadata": {},
     "output_type": "execute_result"
    }
   ],
   "source": [
    "n1 = 21\n",
    "n2 = 10\n",
    "\n",
    "n1 % n2"
   ]
  },
  {
   "cell_type": "markdown",
   "metadata": {
    "id": "zs9zlsUVv_ON"
   },
   "source": [
    "### Constantes en Python"
   ]
  },
  {
   "cell_type": "code",
   "execution_count": 26,
   "metadata": {
    "colab": {
     "base_uri": "https://localhost:8080/"
    },
    "executionInfo": {
     "elapsed": 125,
     "status": "ok",
     "timestamp": 1732058905661,
     "user": {
      "displayName": "José Gilberto Guzmán Gutiérrez",
      "userId": "01573651180812117286"
     },
     "user_tz": 360
    },
    "id": "KEH9CrZYwC-A",
    "outputId": "e610f07e-7f0e-4c00-88ef-b68c96b9dca6"
   },
   "outputs": [
    {
     "name": "stdout",
     "output_type": "stream",
     "text": [
      "3.141516\n"
     ]
    },
    {
     "data": {
      "text/plain": [
       "float"
      ]
     },
     "execution_count": 26,
     "metadata": {},
     "output_type": "execute_result"
    }
   ],
   "source": [
    "PI = 3.141516\n",
    "print(PI)\n",
    "type(PI)"
   ]
  },
  {
   "cell_type": "markdown",
   "metadata": {
    "id": "dVTmnEnrwYUo"
   },
   "source": [
    "### Tipado dinamico Python"
   ]
  },
  {
   "cell_type": "code",
   "execution_count": 27,
   "metadata": {
    "colab": {
     "base_uri": "https://localhost:8080/"
    },
    "executionInfo": {
     "elapsed": 156,
     "status": "ok",
     "timestamp": 1732059112635,
     "user": {
      "displayName": "José Gilberto Guzmán Gutiérrez",
      "userId": "01573651180812117286"
     },
     "user_tz": 360
    },
    "id": "FqMH2MTnwcDS",
    "outputId": "9ff2bcc4-da8d-4e2d-cb89-d6e7a41c2d92"
   },
   "outputs": [
    {
     "data": {
      "text/plain": [
       "float"
      ]
     },
     "execution_count": 27,
     "metadata": {},
     "output_type": "execute_result"
    }
   ],
   "source": [
    "moneda = 3.141516\n",
    "type(moneda)"
   ]
  },
  {
   "cell_type": "code",
   "execution_count": 28,
   "metadata": {
    "colab": {
     "base_uri": "https://localhost:8080/"
    },
    "executionInfo": {
     "elapsed": 173,
     "status": "ok",
     "timestamp": 1732059127003,
     "user": {
      "displayName": "José Gilberto Guzmán Gutiérrez",
      "userId": "01573651180812117286"
     },
     "user_tz": 360
    },
    "id": "LidOIbehxKgR",
    "outputId": "8a813564-b212-48b8-fd93-4ac733c7a09f"
   },
   "outputs": [
    {
     "data": {
      "text/plain": [
       "bool"
      ]
     },
     "execution_count": 28,
     "metadata": {},
     "output_type": "execute_result"
    }
   ],
   "source": [
    "moneda = True\n",
    "type(moneda)"
   ]
  },
  {
   "cell_type": "markdown",
   "metadata": {
    "id": "N5dysNjpylK_"
   },
   "source": [
    "### Palabras Reservadas"
   ]
  },
  {
   "cell_type": "code",
   "execution_count": 29,
   "metadata": {
    "colab": {
     "base_uri": "https://localhost:8080/"
    },
    "executionInfo": {
     "elapsed": 175,
     "status": "ok",
     "timestamp": 1732059523575,
     "user": {
      "displayName": "José Gilberto Guzmán Gutiérrez",
      "userId": "01573651180812117286"
     },
     "user_tz": 360
    },
    "id": "MsCodgDpyp7q",
    "outputId": "ab7817b9-0e25-4490-9927-0aecdfb67d92"
   },
   "outputs": [
    {
     "name": "stdout",
     "output_type": "stream",
     "text": [
      "\n",
      "Here is a list of the Python keywords.  Enter any keyword to get more help.\n",
      "\n",
      "False               class               from                or\n",
      "None                continue            global              pass\n",
      "True                def                 if                  raise\n",
      "and                 del                 import              return\n",
      "as                  elif                in                  try\n",
      "assert              else                is                  while\n",
      "async               except              lambda              with\n",
      "await               finally             nonlocal            yield\n",
      "break               for                 not                 \n",
      "\n"
     ]
    }
   ],
   "source": [
    "help(\"keywords\")"
   ]
  },
  {
   "cell_type": "code",
   "execution_count": 30,
   "metadata": {
    "colab": {
     "base_uri": "https://localhost:8080/"
    },
    "executionInfo": {
     "elapsed": 170,
     "status": "ok",
     "timestamp": 1732059752715,
     "user": {
      "displayName": "José Gilberto Guzmán Gutiérrez",
      "userId": "01573651180812117286"
     },
     "user_tz": 360
    },
    "id": "0B-0QZGGzO4d",
    "outputId": "1e15ff5a-aaae-44ca-d282-c76ff371729b"
   },
   "outputs": [
    {
     "name": "stdout",
     "output_type": "stream",
     "text": [
      "10\n"
     ]
    },
    {
     "data": {
      "text/plain": [
       "int"
      ]
     },
     "execution_count": 30,
     "metadata": {},
     "output_type": "execute_result"
    }
   ],
   "source": [
    "import time\n",
    "\n",
    "time = 10\n",
    "print (time)\n",
    "type(time)"
   ]
  },
  {
   "cell_type": "markdown",
   "metadata": {
    "id": "Yyibc23pzpBd"
   },
   "source": [
    "### Funciones Integradas"
   ]
  },
  {
   "cell_type": "code",
   "execution_count": 31,
   "metadata": {
    "executionInfo": {
     "elapsed": 154,
     "status": "ok",
     "timestamp": 1732059875680,
     "user": {
      "displayName": "José Gilberto Guzmán Gutiérrez",
      "userId": "01573651180812117286"
     },
     "user_tz": 360
    },
    "id": "RE4c1bFdzqz0"
   },
   "outputs": [],
   "source": [
    "def saludar(nombre):\n",
    "  print(f\"Hola {nombre}\")"
   ]
  },
  {
   "cell_type": "code",
   "execution_count": 32,
   "metadata": {
    "colab": {
     "base_uri": "https://localhost:8080/"
    },
    "executionInfo": {
     "elapsed": 327,
     "status": "ok",
     "timestamp": 1732059907713,
     "user": {
      "displayName": "José Gilberto Guzmán Gutiérrez",
      "userId": "01573651180812117286"
     },
     "user_tz": 360
    },
    "id": "ZR3j-_Su0I9J",
    "outputId": "c299be1e-f915-4866-93e2-726039e93400"
   },
   "outputs": [
    {
     "name": "stdout",
     "output_type": "stream",
     "text": [
      "Hola Gilberto\n"
     ]
    }
   ],
   "source": [
    "saludar(\"Gilberto\")"
   ]
  },
  {
   "cell_type": "code",
   "execution_count": 33,
   "metadata": {
    "executionInfo": {
     "elapsed": 283,
     "status": "ok",
     "timestamp": 1732060204330,
     "user": {
      "displayName": "José Gilberto Guzmán Gutiérrez",
      "userId": "01573651180812117286"
     },
     "user_tz": 360
    },
    "id": "u_hbxaSv0Xsc"
   },
   "outputs": [],
   "source": [
    "def saludar2(nombre):\n",
    "  print(\"Hola \" + nombre)"
   ]
  },
  {
   "cell_type": "markdown",
   "metadata": {
    "id": "y_64ZVCM1SEq"
   },
   "source": []
  },
  {
   "cell_type": "code",
   "execution_count": 34,
   "metadata": {
    "colab": {
     "base_uri": "https://localhost:8080/"
    },
    "executionInfo": {
     "elapsed": 324,
     "status": "ok",
     "timestamp": 1732060205727,
     "user": {
      "displayName": "José Gilberto Guzmán Gutiérrez",
      "userId": "01573651180812117286"
     },
     "user_tz": 360
    },
    "id": "nUshrApL0_y0",
    "outputId": "52509ea6-a392-48b2-8602-03176d318790"
   },
   "outputs": [
    {
     "name": "stdout",
     "output_type": "stream",
     "text": [
      "Hola Gilberto\n"
     ]
    }
   ],
   "source": [
    "saludar2(\"Gilberto\")"
   ]
  },
  {
   "cell_type": "markdown",
   "metadata": {
    "id": "2YkOksj51ViS"
   },
   "source": [
    "### Int()"
   ]
  },
  {
   "cell_type": "code",
   "execution_count": 35,
   "metadata": {
    "colab": {
     "base_uri": "https://localhost:8080/"
    },
    "executionInfo": {
     "elapsed": 164,
     "status": "ok",
     "timestamp": 1732060520105,
     "user": {
      "displayName": "José Gilberto Guzmán Gutiérrez",
      "userId": "01573651180812117286"
     },
     "user_tz": 360
    },
    "id": "hrUjT0Ed1Xqz",
    "outputId": "03034ce1-e3d4-43b2-cd9a-cde25dbad275"
   },
   "outputs": [
    {
     "data": {
      "text/plain": [
       "1"
      ]
     },
     "execution_count": 35,
     "metadata": {},
     "output_type": "execute_result"
    }
   ],
   "source": [
    "int(numero_uno)"
   ]
  },
  {
   "cell_type": "code",
   "execution_count": 36,
   "metadata": {
    "colab": {
     "base_uri": "https://localhost:8080/"
    },
    "executionInfo": {
     "elapsed": 176,
     "status": "ok",
     "timestamp": 1732060567262,
     "user": {
      "displayName": "José Gilberto Guzmán Gutiérrez",
      "userId": "01573651180812117286"
     },
     "user_tz": 360
    },
    "id": "_eyFiT3L2lS-",
    "outputId": "7f568060-229d-4ca6-aefa-fd500f877e61"
   },
   "outputs": [
    {
     "data": {
      "text/plain": [
       "9"
      ]
     },
     "execution_count": 36,
     "metadata": {},
     "output_type": "execute_result"
    }
   ],
   "source": [
    "5 + int(\"4\")"
   ]
  },
  {
   "cell_type": "markdown",
   "metadata": {
    "id": "J5wGTSWZ2z3G"
   },
   "source": [
    "### float()"
   ]
  },
  {
   "cell_type": "code",
   "execution_count": 37,
   "metadata": {
    "colab": {
     "base_uri": "https://localhost:8080/"
    },
    "executionInfo": {
     "elapsed": 150,
     "status": "ok",
     "timestamp": 1732060706378,
     "user": {
      "displayName": "José Gilberto Guzmán Gutiérrez",
      "userId": "01573651180812117286"
     },
     "user_tz": 360
    },
    "id": "cBJnnLbS21zZ",
    "outputId": "9f252deb-0399-44ad-9e01-5bc85a4d65f7"
   },
   "outputs": [
    {
     "data": {
      "text/plain": [
       "3"
      ]
     },
     "execution_count": 37,
     "metadata": {},
     "output_type": "execute_result"
    }
   ],
   "source": [
    "PI = 3.141516\n",
    "int(PI)"
   ]
  },
  {
   "cell_type": "markdown",
   "metadata": {
    "id": "QWLWiyPh3SMr"
   },
   "source": [
    "### bin()"
   ]
  },
  {
   "cell_type": "code",
   "execution_count": 38,
   "metadata": {
    "colab": {
     "base_uri": "https://localhost:8080/",
     "height": 36
    },
    "executionInfo": {
     "elapsed": 151,
     "status": "ok",
     "timestamp": 1732060739375,
     "user": {
      "displayName": "José Gilberto Guzmán Gutiérrez",
      "userId": "01573651180812117286"
     },
     "user_tz": 360
    },
    "id": "ILzWFqnI3USA",
    "outputId": "d6e385ad-cdd8-4a6a-a7c8-08d205fa7803"
   },
   "outputs": [
    {
     "data": {
      "text/plain": [
       "'0b10'"
      ]
     },
     "execution_count": 38,
     "metadata": {},
     "output_type": "execute_result"
    }
   ],
   "source": [
    "bin(2)"
   ]
  },
  {
   "cell_type": "code",
   "execution_count": 39,
   "metadata": {
    "colab": {
     "base_uri": "https://localhost:8080/"
    },
    "executionInfo": {
     "elapsed": 210,
     "status": "ok",
     "timestamp": 1732060769900,
     "user": {
      "displayName": "José Gilberto Guzmán Gutiérrez",
      "userId": "01573651180812117286"
     },
     "user_tz": 360
    },
    "id": "-2EcjsZ93ZEe",
    "outputId": "016cbc7c-e264-465d-b9e7-6f9d931266d1"
   },
   "outputs": [
    {
     "name": "stdout",
     "output_type": "stream",
     "text": [
      "0b101\n"
     ]
    }
   ],
   "source": [
    "binario = bin(5)\n",
    "print(binario)"
   ]
  },
  {
   "cell_type": "code",
   "execution_count": 40,
   "metadata": {
    "colab": {
     "base_uri": "https://localhost:8080/"
    },
    "executionInfo": {
     "elapsed": 182,
     "status": "ok",
     "timestamp": 1732060811896,
     "user": {
      "displayName": "José Gilberto Guzmán Gutiérrez",
      "userId": "01573651180812117286"
     },
     "user_tz": 360
    },
    "id": "A5Vh9Gm03nLK",
    "outputId": "13abb59f-6bd1-4305-b068-1ff5e4d31b22"
   },
   "outputs": [
    {
     "data": {
      "text/plain": [
       "str"
      ]
     },
     "execution_count": 40,
     "metadata": {},
     "output_type": "execute_result"
    }
   ],
   "source": [
    "type(binario)"
   ]
  },
  {
   "cell_type": "code",
   "execution_count": 41,
   "metadata": {
    "colab": {
     "base_uri": "https://localhost:8080/"
    },
    "executionInfo": {
     "elapsed": 176,
     "status": "ok",
     "timestamp": 1732060917635,
     "user": {
      "displayName": "José Gilberto Guzmán Gutiérrez",
      "userId": "01573651180812117286"
     },
     "user_tz": 360
    },
    "id": "YiYBjNPU3_uH",
    "outputId": "c90bdf46-4cd1-4138-96ee-ecbf23261cb5"
   },
   "outputs": [
    {
     "data": {
      "text/plain": [
       "5"
      ]
     },
     "execution_count": 41,
     "metadata": {},
     "output_type": "execute_result"
    }
   ],
   "source": [
    "int(binario, 2)"
   ]
  },
  {
   "cell_type": "markdown",
   "metadata": {
    "id": "zVCBBglU4P_3"
   },
   "source": [
    "### Hexadecimal"
   ]
  },
  {
   "cell_type": "code",
   "execution_count": 42,
   "metadata": {
    "colab": {
     "base_uri": "https://localhost:8080/"
    },
    "executionInfo": {
     "elapsed": 195,
     "status": "ok",
     "timestamp": 1732061047358,
     "user": {
      "displayName": "José Gilberto Guzmán Gutiérrez",
      "userId": "01573651180812117286"
     },
     "user_tz": 360
    },
    "id": "gIB3Ea204S7O",
    "outputId": "ad41a47c-e98b-486e-bb7e-6a2ede24f78f"
   },
   "outputs": [
    {
     "name": "stdout",
     "output_type": "stream",
     "text": [
      "0xff\n"
     ]
    },
    {
     "data": {
      "text/plain": [
       "255"
      ]
     },
     "execution_count": 42,
     "metadata": {},
     "output_type": "execute_result"
    }
   ],
   "source": [
    "\n",
    "hex(255)\n",
    "hexadecimal = hex(255)\n",
    "print(hexadecimal)\n",
    "type(hexadecimal)\n",
    "int(hexadecimal, 16)"
   ]
  },
  {
   "cell_type": "markdown",
   "metadata": {
    "id": "2_dVN_hW4aaE"
   },
   "source": [
    "### len"
   ]
  },
  {
   "cell_type": "code",
   "execution_count": 43,
   "metadata": {
    "colab": {
     "base_uri": "https://localhost:8080/"
    },
    "executionInfo": {
     "elapsed": 305,
     "status": "ok",
     "timestamp": 1732061173108,
     "user": {
      "displayName": "José Gilberto Guzmán Gutiérrez",
      "userId": "01573651180812117286"
     },
     "user_tz": 360
    },
    "id": "kKMu8lIt4teB",
    "outputId": "570826a7-68f5-4550-eeac-184628eeec8d"
   },
   "outputs": [
    {
     "data": {
      "text/plain": [
       "12"
      ]
     },
     "execution_count": 43,
     "metadata": {},
     "output_type": "execute_result"
    }
   ],
   "source": [
    "# prompt: len example\n",
    "\n",
    "mensaje = \"Hola a todos\"\n",
    "longitud_mensaje = len(mensaje)\n",
    "longitud_mensaje"
   ]
  }
 ],
 "metadata": {
  "colab": {
   "authorship_tag": "ABX9TyM/bfvLAhfm9SmdTHnnnl+Z",
   "provenance": []
  },
  "kernelspec": {
   "display_name": ".venv",
   "language": "python",
   "name": "python3"
  },
  "language_info": {
   "codemirror_mode": {
    "name": "ipython",
    "version": 3
   },
   "file_extension": ".py",
   "mimetype": "text/x-python",
   "name": "python",
   "nbconvert_exporter": "python",
   "pygments_lexer": "ipython3",
   "version": "3.12.1"
  }
 },
 "nbformat": 4,
 "nbformat_minor": 0
}

{
 "cells": [
  {
   "cell_type": "markdown",
   "metadata": {},
   "source": [
    "# Estructuras de datos en Python"
   ]
  },
  {
   "cell_type": "markdown",
   "metadata": {
    "id": "NvkROIypnakU"
   },
   "source": [
    "### Variables"
   ]
  },
  {
   "cell_type": "code",
   "execution_count": null,
   "metadata": {
    "id": "J7AU-ZaTnZUY"
   },
   "outputs": [],
   "source": [
    "var_uno = \"Hola\""
   ]
  },
  {
   "cell_type": "code",
   "execution_count": null,
   "metadata": {
    "colab": {
     "base_uri": "https://localhost:8080/"
    },
    "id": "kyoYn9O1nd-H",
    "outputId": "4b2c6cd1-1454-4d46-b7d4-0efe5b1f3bd6"
   },
   "outputs": [
    {
     "data": {
      "text/plain": [
       "True"
      ]
     },
     "execution_count": 2,
     "metadata": {},
     "output_type": "execute_result"
    }
   ],
   "source": [
    "True"
   ]
  },
  {
   "cell_type": "code",
   "execution_count": null,
   "metadata": {
    "colab": {
     "base_uri": "https://localhost:8080/"
    },
    "id": "jqwsMcFsnhN1",
    "outputId": "35292f9c-1458-483d-fab3-1312210e4bd1"
   },
   "outputs": [
    {
     "data": {
      "text/plain": [
       "False"
      ]
     },
     "execution_count": 3,
     "metadata": {},
     "output_type": "execute_result"
    }
   ],
   "source": [
    "False"
   ]
  },
  {
   "cell_type": "markdown",
   "metadata": {
    "id": "Oc6Q5tshnj_W"
   },
   "source": [
    "### Operadores de comparación"
   ]
  },
  {
   "cell_type": "markdown",
   "metadata": {
    "id": "5ubXsxx9n50i"
   },
   "source": [
    "Mayor que"
   ]
  },
  {
   "cell_type": "code",
   "execution_count": null,
   "metadata": {
    "colab": {
     "base_uri": "https://localhost:8080/"
    },
    "id": "FLg4NM6pnht3",
    "outputId": "916bf1e4-7859-405d-e7fb-57697908fc60"
   },
   "outputs": [
    {
     "data": {
      "text/plain": [
       "True"
      ]
     },
     "execution_count": 4,
     "metadata": {},
     "output_type": "execute_result"
    }
   ],
   "source": [
    "5 > 3"
   ]
  },
  {
   "cell_type": "code",
   "execution_count": null,
   "metadata": {
    "colab": {
     "base_uri": "https://localhost:8080/"
    },
    "id": "pZ0ghqFTnzW9",
    "outputId": "55d724a9-a261-41e0-c981-679002c5695b"
   },
   "outputs": [
    {
     "data": {
      "text/plain": [
       "False"
      ]
     },
     "execution_count": 5,
     "metadata": {},
     "output_type": "execute_result"
    }
   ],
   "source": [
    "3 > 5"
   ]
  },
  {
   "cell_type": "markdown",
   "metadata": {
    "id": "DuuI3BKmn5JU"
   },
   "source": [
    "Menor que"
   ]
  },
  {
   "cell_type": "code",
   "execution_count": null,
   "metadata": {
    "colab": {
     "base_uri": "https://localhost:8080/"
    },
    "id": "ev45e8Bbn1kw",
    "outputId": "3027de38-9ae0-495e-9b9a-8d8b2a1eafd7"
   },
   "outputs": [
    {
     "data": {
      "text/plain": [
       "True"
      ]
     },
     "execution_count": 6,
     "metadata": {},
     "output_type": "execute_result"
    }
   ],
   "source": [
    "3 < 5"
   ]
  },
  {
   "cell_type": "markdown",
   "metadata": {
    "id": "o6pHjS5noE68"
   },
   "source": [
    "Igual que"
   ]
  },
  {
   "cell_type": "code",
   "execution_count": null,
   "metadata": {
    "colab": {
     "base_uri": "https://localhost:8080/"
    },
    "id": "H-LktQSToAlK",
    "outputId": "acbc9e9e-a1a2-4bff-fa58-6b0aa03ef00b"
   },
   "outputs": [
    {
     "data": {
      "text/plain": [
       "True"
      ]
     },
     "execution_count": 7,
     "metadata": {},
     "output_type": "execute_result"
    }
   ],
   "source": [
    "10 == 10"
   ]
  },
  {
   "cell_type": "code",
   "execution_count": null,
   "metadata": {
    "colab": {
     "base_uri": "https://localhost:8080/"
    },
    "id": "5YGEAOj-oHnu",
    "outputId": "49517e1f-328b-4966-b9cb-2b279c98e85e"
   },
   "outputs": [
    {
     "data": {
      "text/plain": [
       "False"
      ]
     },
     "execution_count": 8,
     "metadata": {},
     "output_type": "execute_result"
    }
   ],
   "source": [
    "10 == \"10\""
   ]
  },
  {
   "cell_type": "code",
   "execution_count": null,
   "metadata": {
    "colab": {
     "base_uri": "https://localhost:8080/"
    },
    "id": "L1R8APlVoOwO",
    "outputId": "e36ab0a9-2d98-4e52-af45-c9b046c20867"
   },
   "outputs": [
    {
     "data": {
      "text/plain": [
       "True"
      ]
     },
     "execution_count": 9,
     "metadata": {},
     "output_type": "execute_result"
    }
   ],
   "source": [
    "10 == int(\"10\")"
   ]
  },
  {
   "cell_type": "markdown",
   "metadata": {
    "id": "sZSb48zvobFh"
   },
   "source": [
    "Distinto de"
   ]
  },
  {
   "cell_type": "code",
   "execution_count": null,
   "metadata": {
    "colab": {
     "base_uri": "https://localhost:8080/"
    },
    "id": "tPEEcsSCoXHt",
    "outputId": "f1903fa0-c22a-4e15-b997-7d12fa37d081"
   },
   "outputs": [
    {
     "data": {
      "text/plain": [
       "True"
      ]
     },
     "execution_count": 10,
     "metadata": {},
     "output_type": "execute_result"
    }
   ],
   "source": [
    "\"f\" != \"F\""
   ]
  },
  {
   "cell_type": "code",
   "execution_count": null,
   "metadata": {
    "id": "scN8ehfporh7"
   },
   "outputs": [],
   "source": [
    "letra_izq = \"f\"\n",
    "letra_der = \"F\""
   ]
  },
  {
   "cell_type": "code",
   "execution_count": null,
   "metadata": {
    "colab": {
     "base_uri": "https://localhost:8080/"
    },
    "id": "6Ck1Kr-Bo21i",
    "outputId": "bbfb5dd7-d212-48b4-a32e-a9821761e417"
   },
   "outputs": [
    {
     "name": "stdout",
     "output_type": "stream",
     "text": [
      "<class 'str'>\n"
     ]
    }
   ],
   "source": [
    "print(type(letra_izq))"
   ]
  },
  {
   "cell_type": "code",
   "execution_count": null,
   "metadata": {
    "id": "NTpyFXlNp6Eg"
   },
   "outputs": [],
   "source": [
    "# Prototipado de función\n",
    "def mi_funcion(args):\n",
    "  print(args)"
   ]
  },
  {
   "cell_type": "code",
   "execution_count": null,
   "metadata": {
    "colab": {
     "base_uri": "https://localhost:8080/",
     "height": 162
    },
    "id": "5pX7hb1YqMry",
    "outputId": "f61b309b-7403-4fd4-c706-d5021bee8f05"
   },
   "outputs": [
    {
     "ename": "TypeError",
     "evalue": "mi_funcion() missing 1 required positional argument: 'args'",
     "output_type": "error",
     "traceback": [
      "\u001b[0;31m---------------------------------------------------------------------------\u001b[0m",
      "\u001b[0;31mTypeError\u001b[0m                                 Traceback (most recent call last)",
      "\u001b[0;32m<ipython-input-17-480632bb35da>\u001b[0m in \u001b[0;36m<cell line: 1>\u001b[0;34m()\u001b[0m\n\u001b[0;32m----> 1\u001b[0;31m \u001b[0mmi_funcion\u001b[0m\u001b[0;34m(\u001b[0m\u001b[0;34m)\u001b[0m\u001b[0;34m\u001b[0m\u001b[0;34m\u001b[0m\u001b[0m\n\u001b[0m",
      "\u001b[0;31mTypeError\u001b[0m: mi_funcion() missing 1 required positional argument: 'args'"
     ]
    }
   ],
   "source": [
    "mi_funcion()"
   ]
  },
  {
   "cell_type": "code",
   "execution_count": null,
   "metadata": {
    "id": "bjnU9jWdpLOp"
   },
   "outputs": [],
   "source": [
    "letra_izq = letra_izq.upper()"
   ]
  },
  {
   "cell_type": "code",
   "execution_count": null,
   "metadata": {
    "colab": {
     "base_uri": "https://localhost:8080/",
     "height": 56
    },
    "id": "d_JLU1Ieq3MN",
    "outputId": "a1a842fe-49b4-41c0-9365-f41668136a8f"
   },
   "outputs": [
    {
     "data": {
      "application/vnd.google.colaboratory.intrinsic+json": {
       "type": "string"
      },
      "text/plain": [
       "'F'"
      ]
     },
     "execution_count": 22,
     "metadata": {},
     "output_type": "execute_result"
    }
   ],
   "source": [
    "letra_der"
   ]
  },
  {
   "cell_type": "code",
   "execution_count": null,
   "metadata": {
    "id": "dHv9005yq7u9"
   },
   "outputs": [],
   "source": [
    "letra_der = letra_der.lower()"
   ]
  },
  {
   "cell_type": "markdown",
   "metadata": {
    "id": "fdvQ2oE5rIpG"
   },
   "source": [
    "Mayor o igual que"
   ]
  },
  {
   "cell_type": "code",
   "execution_count": null,
   "metadata": {
    "colab": {
     "base_uri": "https://localhost:8080/"
    },
    "id": "-E0g-yaKrC3G",
    "outputId": "eaf1f215-c4a4-4ed7-b7ee-af44cb08e914"
   },
   "outputs": [
    {
     "data": {
      "text/plain": [
       "True"
      ]
     },
     "execution_count": 26,
     "metadata": {},
     "output_type": "execute_result"
    }
   ],
   "source": [
    "10 > 9"
   ]
  },
  {
   "cell_type": "code",
   "execution_count": null,
   "metadata": {
    "colab": {
     "base_uri": "https://localhost:8080/"
    },
    "id": "q0e7eaKcrfQI",
    "outputId": "bff4ef9c-6f3b-4fb8-aeb5-35261c492d7f"
   },
   "outputs": [
    {
     "data": {
      "text/plain": [
       "False"
      ]
     },
     "execution_count": 27,
     "metadata": {},
     "output_type": "execute_result"
    }
   ],
   "source": [
    "10 > 10"
   ]
  },
  {
   "cell_type": "code",
   "execution_count": null,
   "metadata": {
    "colab": {
     "base_uri": "https://localhost:8080/"
    },
    "id": "VBM0dreXrhkg",
    "outputId": "7afe8572-920f-41fe-b6f7-db7efbc467ff"
   },
   "outputs": [
    {
     "data": {
      "text/plain": [
       "True"
      ]
     },
     "execution_count": 28,
     "metadata": {},
     "output_type": "execute_result"
    }
   ],
   "source": [
    "10 >= 10"
   ]
  },
  {
   "cell_type": "markdown",
   "metadata": {
    "id": "U6mltTxsrtOo"
   },
   "source": [
    "Menor o igual que"
   ]
  },
  {
   "cell_type": "code",
   "execution_count": null,
   "metadata": {
    "colab": {
     "base_uri": "https://localhost:8080/"
    },
    "id": "_rbyMH6NrqUd",
    "outputId": "a82079b7-2f1a-4d02-b530-faa45cd2ecc5"
   },
   "outputs": [
    {
     "data": {
      "text/plain": [
       "False"
      ]
     },
     "execution_count": 29,
     "metadata": {},
     "output_type": "execute_result"
    }
   ],
   "source": [
    "200 < 190"
   ]
  },
  {
   "cell_type": "code",
   "execution_count": null,
   "metadata": {
    "colab": {
     "base_uri": "https://localhost:8080/"
    },
    "id": "OQahb_A-rzDv",
    "outputId": "49f0b8ab-f9f2-4280-d9e5-3346863d4540"
   },
   "outputs": [
    {
     "data": {
      "text/plain": [
       "True"
      ]
     },
     "execution_count": 30,
     "metadata": {},
     "output_type": "execute_result"
    }
   ],
   "source": [
    "200 > 190"
   ]
  },
  {
   "cell_type": "code",
   "execution_count": null,
   "metadata": {
    "colab": {
     "base_uri": "https://localhost:8080/"
    },
    "id": "9z_yM3e_r0_R",
    "outputId": "cde846dd-bdc3-4145-fe93-17c325acc2ac"
   },
   "outputs": [
    {
     "data": {
      "text/plain": [
       "True"
      ]
     },
     "execution_count": 31,
     "metadata": {},
     "output_type": "execute_result"
    }
   ],
   "source": [
    "200 <= 200"
   ]
  },
  {
   "cell_type": "markdown",
   "metadata": {
    "id": "PVtuG9N3sII4"
   },
   "source": [
    "### Operadores lógicos de comparación"
   ]
  },
  {
   "cell_type": "code",
   "execution_count": null,
   "metadata": {
    "colab": {
     "base_uri": "https://localhost:8080/"
    },
    "id": "cPbI6IItr4oa",
    "outputId": "c0b707b4-2f11-4dd8-8420-ef7e034cf70e"
   },
   "outputs": [
    {
     "data": {
      "text/plain": [
       "True"
      ]
     },
     "execution_count": 32,
     "metadata": {},
     "output_type": "execute_result"
    }
   ],
   "source": [
    "True and True"
   ]
  },
  {
   "cell_type": "code",
   "execution_count": null,
   "metadata": {
    "colab": {
     "base_uri": "https://localhost:8080/"
    },
    "id": "aIFoSThls3dT",
    "outputId": "5daae527-1481-4223-992d-a5a7ef4456b2"
   },
   "outputs": [
    {
     "data": {
      "text/plain": [
       "False"
      ]
     },
     "execution_count": 33,
     "metadata": {},
     "output_type": "execute_result"
    }
   ],
   "source": [
    "True and False"
   ]
  },
  {
   "cell_type": "markdown",
   "metadata": {
    "id": "QEr4UAe2tOLW"
   },
   "source": [
    "or"
   ]
  },
  {
   "cell_type": "code",
   "execution_count": null,
   "metadata": {
    "colab": {
     "base_uri": "https://localhost:8080/"
    },
    "id": "4jWNxgdHs4kB",
    "outputId": "8ee05d39-59a9-4737-f468-1aeeacc3233f"
   },
   "outputs": [
    {
     "data": {
      "text/plain": [
       "True"
      ]
     },
     "execution_count": 34,
     "metadata": {},
     "output_type": "execute_result"
    }
   ],
   "source": [
    "True or False"
   ]
  },
  {
   "cell_type": "code",
   "execution_count": null,
   "metadata": {
    "colab": {
     "base_uri": "https://localhost:8080/"
    },
    "id": "STs6bTTVtRLo",
    "outputId": "ce0ca969-8a98-4a72-a128-3492b6889ee3"
   },
   "outputs": [
    {
     "data": {
      "text/plain": [
       "False"
      ]
     },
     "execution_count": 35,
     "metadata": {},
     "output_type": "execute_result"
    }
   ],
   "source": [
    "False and False"
   ]
  },
  {
   "cell_type": "markdown",
   "metadata": {
    "id": "uBBQqFv2tiA8"
   },
   "source": [
    "not"
   ]
  },
  {
   "cell_type": "code",
   "execution_count": null,
   "metadata": {
    "colab": {
     "base_uri": "https://localhost:8080/"
    },
    "id": "DhBiqQ0-tbps",
    "outputId": "d7026983-6418-4d14-ac46-88d8f7d52dda"
   },
   "outputs": [
    {
     "data": {
      "text/plain": [
       "False"
      ]
     },
     "execution_count": 36,
     "metadata": {},
     "output_type": "execute_result"
    }
   ],
   "source": [
    "not True"
   ]
  },
  {
   "cell_type": "code",
   "execution_count": null,
   "metadata": {
    "colab": {
     "base_uri": "https://localhost:8080/"
    },
    "id": "vCEue6YCtkQw",
    "outputId": "09786cc7-b721-41b5-de9b-0e0aee2cbbe3"
   },
   "outputs": [
    {
     "data": {
      "text/plain": [
       "True"
      ]
     },
     "execution_count": 37,
     "metadata": {},
     "output_type": "execute_result"
    }
   ],
   "source": [
    "not False"
   ]
  },
  {
   "cell_type": "markdown",
   "metadata": {
    "id": "D2S0riT6ttO5"
   },
   "source": [
    "Algoritmo de Pensiones"
   ]
  },
  {
   "cell_type": "markdown",
   "metadata": {
    "id": "dQaW5AAvtwjk"
   },
   "source": [
    "Diseñar el algoritmo que evalúa la situación actual del adulto mayor para proporcionarle los beneficios de pensión más adecuados.\n",
    "\n",
    "- Edad\n",
    "- Sexo"
   ]
  },
  {
   "cell_type": "code",
   "execution_count": null,
   "metadata": {
    "id": "SDvU3EDztlmc"
   },
   "outputs": [],
   "source": [
    "edad = 63\n",
    "sexo = \"H\""
   ]
  },
  {
   "cell_type": "code",
   "execution_count": null,
   "metadata": {
    "id": "2umjAajJt5st"
   },
   "outputs": [],
   "source": [
    "resultado_comparacion = edad >= 65 and sexo == \"H\""
   ]
  },
  {
   "cell_type": "code",
   "execution_count": null,
   "metadata": {
    "colab": {
     "base_uri": "https://localhost:8080/"
    },
    "id": "4zDdiYGLuFzp",
    "outputId": "f940deb5-1c33-49f5-a7c4-f64a93746ea8"
   },
   "outputs": [
    {
     "name": "stdout",
     "output_type": "stream",
     "text": [
      "False\n"
     ]
    }
   ],
   "source": [
    "print(resultado_comparacion)"
   ]
  },
  {
   "cell_type": "code",
   "execution_count": null,
   "metadata": {
    "colab": {
     "base_uri": "https://localhost:8080/"
    },
    "id": "gSL8DXZWuNtH",
    "outputId": "65b38512-4423-4392-9515-aec2259847c4"
   },
   "outputs": [
    {
     "data": {
      "text/plain": [
       "True"
      ]
     },
     "execution_count": 43,
     "metadata": {},
     "output_type": "execute_result"
    }
   ],
   "source": [
    "edad >= 63 and sexo == \"H\""
   ]
  },
  {
   "cell_type": "code",
   "execution_count": null,
   "metadata": {
    "colab": {
     "base_uri": "https://localhost:8080/"
    },
    "id": "EDJHrVnhuS8B",
    "outputId": "c05b6f2c-2f5b-41b8-9b09-beb8aee1bb1b"
   },
   "outputs": [
    {
     "data": {
      "text/plain": [
       "False"
      ]
     },
     "execution_count": 44,
     "metadata": {},
     "output_type": "execute_result"
    }
   ],
   "source": [
    "resultado_comparacion"
   ]
  },
  {
   "cell_type": "code",
   "execution_count": null,
   "metadata": {
    "colab": {
     "base_uri": "https://localhost:8080/"
    },
    "id": "dNWpSuV4uoW4",
    "outputId": "0066e40a-0f31-4a8e-dd7c-248710f0d549"
   },
   "outputs": [
    {
     "data": {
      "text/plain": [
       "0"
      ]
     },
     "execution_count": 45,
     "metadata": {},
     "output_type": "execute_result"
    }
   ],
   "source": [
    "int(resultado_comparacion)"
   ]
  },
  {
   "cell_type": "code",
   "execution_count": null,
   "metadata": {
    "colab": {
     "base_uri": "https://localhost:8080/"
    },
    "id": "bEwQ3OCwuqZq",
    "outputId": "3f5703a1-e20b-4dab-950e-fd4a06e47466"
   },
   "outputs": [
    {
     "data": {
      "text/plain": [
       "True"
      ]
     },
     "execution_count": 46,
     "metadata": {},
     "output_type": "execute_result"
    }
   ],
   "source": [
    "bool(1)"
   ]
  },
  {
   "cell_type": "code",
   "execution_count": null,
   "metadata": {
    "colab": {
     "base_uri": "https://localhost:8080/"
    },
    "id": "z57e-P3puzik",
    "outputId": "5df51dc3-c381-421b-c586-adf9bdaa366b"
   },
   "outputs": [
    {
     "data": {
      "text/plain": [
       "False"
      ]
     },
     "execution_count": 47,
     "metadata": {},
     "output_type": "execute_result"
    }
   ],
   "source": [
    "bool(0)"
   ]
  },
  {
   "cell_type": "markdown",
   "metadata": {
    "id": "Pkv2M3iFu8Jv"
   },
   "source": [
    "### Estructuras de datos"
   ]
  },
  {
   "cell_type": "code",
   "execution_count": null,
   "metadata": {
    "id": "NcMsMdk1u2VB"
   },
   "outputs": [],
   "source": [
    "lista_de_precios = [10, 20, 30, 40]"
   ]
  },
  {
   "cell_type": "code",
   "execution_count": null,
   "metadata": {
    "colab": {
     "base_uri": "https://localhost:8080/"
    },
    "id": "pRfFw0CowkS2",
    "outputId": "8e5e5f5a-c6ee-4b66-aa6c-cb3c48a303a2"
   },
   "outputs": [
    {
     "name": "stdout",
     "output_type": "stream",
     "text": [
      "[10, 20, 30, 40]\n"
     ]
    }
   ],
   "source": [
    "print(lista_de_precios)"
   ]
  },
  {
   "cell_type": "code",
   "execution_count": null,
   "metadata": {
    "colab": {
     "base_uri": "https://localhost:8080/"
    },
    "id": "OcepoDHawlXu",
    "outputId": "e504726f-b0f5-4b7a-bf77-48a225391d20"
   },
   "outputs": [
    {
     "data": {
      "text/plain": [
       "list"
      ]
     },
     "execution_count": 50,
     "metadata": {},
     "output_type": "execute_result"
    }
   ],
   "source": [
    "type(lista_de_precios)"
   ]
  },
  {
   "cell_type": "code",
   "execution_count": null,
   "metadata": {
    "colab": {
     "base_uri": "https://localhost:8080/"
    },
    "id": "jeJyllxuwoUP",
    "outputId": "5807554b-1ac5-471d-8180-5dd023c1f48f"
   },
   "outputs": [
    {
     "data": {
      "text/plain": [
       "10"
      ]
     },
     "execution_count": 51,
     "metadata": {},
     "output_type": "execute_result"
    }
   ],
   "source": [
    "lista_de_precios[0]"
   ]
  },
  {
   "cell_type": "code",
   "execution_count": null,
   "metadata": {
    "colab": {
     "base_uri": "https://localhost:8080/"
    },
    "id": "LkGIiK-twybI",
    "outputId": "3413c793-381e-4c21-8f38-54d53a034ca0"
   },
   "outputs": [
    {
     "data": {
      "text/plain": [
       "40"
      ]
     },
     "execution_count": 52,
     "metadata": {},
     "output_type": "execute_result"
    }
   ],
   "source": [
    "lista_de_precios[-1]"
   ]
  },
  {
   "cell_type": "code",
   "execution_count": null,
   "metadata": {
    "colab": {
     "base_uri": "https://localhost:8080/"
    },
    "id": "jzC3Sn1Dw5nK",
    "outputId": "8cda8528-4ca1-4b07-bcb1-58d9329b30df"
   },
   "outputs": [
    {
     "data": {
      "text/plain": [
       "4"
      ]
     },
     "execution_count": 53,
     "metadata": {},
     "output_type": "execute_result"
    }
   ],
   "source": [
    "len(lista_de_precios)"
   ]
  },
  {
   "cell_type": "code",
   "execution_count": null,
   "metadata": {
    "colab": {
     "base_uri": "https://localhost:8080/"
    },
    "id": "CMmkp8tbw_yi",
    "outputId": "f2c37c21-ab78-479f-9c91-ac3abc5e9b0a"
   },
   "outputs": [
    {
     "data": {
      "text/plain": [
       "40"
      ]
     },
     "execution_count": 55,
     "metadata": {},
     "output_type": "execute_result"
    }
   ],
   "source": [
    "lista_de_precios[len(lista_de_precios) - 1]"
   ]
  },
  {
   "cell_type": "code",
   "execution_count": null,
   "metadata": {
    "colab": {
     "base_uri": "https://localhost:8080/"
    },
    "id": "YvY-FrVSxDPx",
    "outputId": "614cca3b-fdc8-454d-8d0d-ff3b48c670e5"
   },
   "outputs": [
    {
     "data": {
      "text/plain": [
       "40"
      ]
     },
     "execution_count": 56,
     "metadata": {},
     "output_type": "execute_result"
    }
   ],
   "source": [
    "lista_de_precios[-1]"
   ]
  },
  {
   "cell_type": "markdown",
   "metadata": {
    "id": "FQbx34CXxWnT"
   },
   "source": [
    "### Métodos de listas"
   ]
  },
  {
   "cell_type": "markdown",
   "metadata": {
    "id": "tiIO52DpxZK8"
   },
   "source": [
    "Append"
   ]
  },
  {
   "cell_type": "code",
   "execution_count": null,
   "metadata": {
    "colab": {
     "base_uri": "https://localhost:8080/"
    },
    "id": "9qqhDV_LxLdF",
    "outputId": "cd9a3f4f-5af1-42b7-b0bb-adce334b9c1b"
   },
   "outputs": [
    {
     "data": {
      "text/plain": [
       "[10, 20, 30, 40]"
      ]
     },
     "execution_count": 57,
     "metadata": {},
     "output_type": "execute_result"
    }
   ],
   "source": [
    "lista_de_precios"
   ]
  },
  {
   "cell_type": "code",
   "execution_count": null,
   "metadata": {
    "id": "E1n_BxhLxcVq"
   },
   "outputs": [],
   "source": [
    "lista_de_precios.append(50)"
   ]
  },
  {
   "cell_type": "code",
   "execution_count": null,
   "metadata": {
    "colab": {
     "base_uri": "https://localhost:8080/"
    },
    "id": "BgdpkLh6xseI",
    "outputId": "0b73f621-589a-4248-f5bf-68a2d46010e6"
   },
   "outputs": [
    {
     "data": {
      "text/plain": [
       "[10, 20, 30, 40, 50]"
      ]
     },
     "execution_count": 62,
     "metadata": {},
     "output_type": "execute_result"
    }
   ],
   "source": [
    "lista_de_precios"
   ]
  },
  {
   "cell_type": "code",
   "execution_count": null,
   "metadata": {
    "id": "LinqVDirxtIo"
   },
   "outputs": [],
   "source": [
    "lista_de_precios.append([100, 200])"
   ]
  },
  {
   "cell_type": "code",
   "execution_count": null,
   "metadata": {
    "colab": {
     "base_uri": "https://localhost:8080/"
    },
    "id": "BtFo2AaCyCJm",
    "outputId": "bc8d68ec-540a-4c12-9f2f-32b82ba6c108"
   },
   "outputs": [
    {
     "data": {
      "text/plain": [
       "[10, 20, 30, 40, 50, [100, 200]]"
      ]
     },
     "execution_count": 64,
     "metadata": {},
     "output_type": "execute_result"
    }
   ],
   "source": [
    "lista_de_precios"
   ]
  },
  {
   "cell_type": "code",
   "execution_count": null,
   "metadata": {
    "colab": {
     "base_uri": "https://localhost:8080/"
    },
    "id": "TTh2D4B0yCtB",
    "outputId": "d69e99d0-3c56-44e7-afdc-0c7e9a04d4b5"
   },
   "outputs": [
    {
     "data": {
      "text/plain": [
       "200"
      ]
     },
     "execution_count": 66,
     "metadata": {},
     "output_type": "execute_result"
    }
   ],
   "source": [
    "lista_de_precios[-1][-1]"
   ]
  },
  {
   "cell_type": "markdown",
   "metadata": {
    "id": "A-M1Fxt0ya8q"
   },
   "source": [
    "Extend"
   ]
  },
  {
   "cell_type": "code",
   "execution_count": null,
   "metadata": {
    "colab": {
     "base_uri": "https://localhost:8080/"
    },
    "id": "ezyYDYU7yK8T",
    "outputId": "c534ff82-0604-4093-e5ca-9e295a8ef71a"
   },
   "outputs": [
    {
     "data": {
      "text/plain": [
       "[10, 20, 30, 40, 50, [100, 200]]"
      ]
     },
     "execution_count": 67,
     "metadata": {},
     "output_type": "execute_result"
    }
   ],
   "source": [
    "lista_de_precios"
   ]
  },
  {
   "cell_type": "code",
   "execution_count": null,
   "metadata": {
    "id": "tbR-Lr24zaZt"
   },
   "outputs": [],
   "source": [
    "lista_de_precios.extend([300, 400])"
   ]
  },
  {
   "cell_type": "code",
   "execution_count": null,
   "metadata": {
    "colab": {
     "base_uri": "https://localhost:8080/"
    },
    "id": "fZSfWzuqzhvk",
    "outputId": "387d3095-f2d5-4c48-9a95-cb0a08b0a31f"
   },
   "outputs": [
    {
     "data": {
      "text/plain": [
       "[10, 20, 30, 40, 50, [100, 200], 300, 400]"
      ]
     },
     "execution_count": 69,
     "metadata": {},
     "output_type": "execute_result"
    }
   ],
   "source": [
    "lista_de_precios"
   ]
  },
  {
   "cell_type": "code",
   "execution_count": null,
   "metadata": {
    "colab": {
     "base_uri": "https://localhost:8080/"
    },
    "id": "Kd6d-MUqzijO",
    "outputId": "1bdb7fe0-a62e-4a56-91f1-79ecd6df3cc2"
   },
   "outputs": [
    {
     "data": {
      "text/plain": [
       "300"
      ]
     },
     "execution_count": 71,
     "metadata": {},
     "output_type": "execute_result"
    }
   ],
   "source": [
    "lista_de_precios[6]"
   ]
  },
  {
   "cell_type": "code",
   "execution_count": null,
   "metadata": {
    "colab": {
     "base_uri": "https://localhost:8080/"
    },
    "id": "XmXHo7q5ztdk",
    "outputId": "495a7471-d098-419e-9932-fa42accba337"
   },
   "outputs": [
    {
     "data": {
      "text/plain": [
       "300"
      ]
     },
     "execution_count": 72,
     "metadata": {},
     "output_type": "execute_result"
    }
   ],
   "source": [
    "lista_de_precios[-2]"
   ]
  },
  {
   "cell_type": "code",
   "execution_count": null,
   "metadata": {
    "colab": {
     "base_uri": "https://localhost:8080/"
    },
    "id": "cqmbRGkKz1cl",
    "outputId": "0bf18c09-c7d3-4b70-9bff-57723722c679"
   },
   "outputs": [
    {
     "data": {
      "text/plain": [
       "[10, 20, 30, 40, 50, [100, 200], 300, 400]"
      ]
     },
     "execution_count": 73,
     "metadata": {},
     "output_type": "execute_result"
    }
   ],
   "source": [
    "lista_de_precios"
   ]
  },
  {
   "cell_type": "markdown",
   "metadata": {
    "id": "0kyMqqfY0Y3t"
   },
   "source": [
    "## Remove"
   ]
  },
  {
   "cell_type": "code",
   "execution_count": null,
   "metadata": {
    "id": "URHpsX4G0VKM"
   },
   "outputs": [],
   "source": [
    "lista_de_precios.remove(400)"
   ]
  },
  {
   "cell_type": "code",
   "execution_count": null,
   "metadata": {
    "colab": {
     "base_uri": "https://localhost:8080/"
    },
    "id": "sYWqh-S60dEh",
    "outputId": "de0e9c86-22e0-42af-e1e3-62b6dc79f555"
   },
   "outputs": [
    {
     "data": {
      "text/plain": [
       "[10, 20, 30, 40, 50, [100, 200], 300]"
      ]
     },
     "execution_count": 75,
     "metadata": {},
     "output_type": "execute_result"
    }
   ],
   "source": [
    "lista_de_precios"
   ]
  },
  {
   "cell_type": "code",
   "execution_count": null,
   "metadata": {
    "id": "UOlGgyoF0dwW"
   },
   "outputs": [],
   "source": [
    "lista_de_precios.remove(300)"
   ]
  },
  {
   "cell_type": "code",
   "execution_count": null,
   "metadata": {
    "colab": {
     "base_uri": "https://localhost:8080/"
    },
    "id": "NPFSV3800hP7",
    "outputId": "0c64659a-ec62-4263-f756-5e27a7967141"
   },
   "outputs": [
    {
     "data": {
      "text/plain": [
       "[10, 20, 30, 40, 50, [100, 200]]"
      ]
     },
     "execution_count": 77,
     "metadata": {},
     "output_type": "execute_result"
    }
   ],
   "source": [
    "lista_de_precios"
   ]
  },
  {
   "cell_type": "code",
   "execution_count": null,
   "metadata": {
    "id": "xh_DJdWy0h7p"
   },
   "outputs": [],
   "source": [
    "lista_de_precios.remove([100, 200])"
   ]
  },
  {
   "cell_type": "code",
   "execution_count": null,
   "metadata": {
    "colab": {
     "base_uri": "https://localhost:8080/"
    },
    "id": "jDkjHvkD0lRq",
    "outputId": "b0d64f49-5f0b-4aa1-a70e-efa8b73e3ebc"
   },
   "outputs": [
    {
     "data": {
      "text/plain": [
       "[10, 20, 30, 40, 50]"
      ]
     },
     "execution_count": 79,
     "metadata": {},
     "output_type": "execute_result"
    }
   ],
   "source": [
    "lista_de_precios"
   ]
  },
  {
   "cell_type": "markdown",
   "metadata": {
    "id": "8lp1Jkng03ES"
   },
   "source": [
    "index"
   ]
  },
  {
   "cell_type": "code",
   "execution_count": null,
   "metadata": {
    "id": "9uNSzP3c0sgX"
   },
   "outputs": [],
   "source": [
    "index_de_30 = lista_de_precios.index(30)"
   ]
  },
  {
   "cell_type": "code",
   "execution_count": null,
   "metadata": {
    "colab": {
     "base_uri": "https://localhost:8080/"
    },
    "id": "cbDIDWsg1Ayo",
    "outputId": "2340034a-0d2e-4f03-c76b-65433170ce28"
   },
   "outputs": [
    {
     "data": {
      "text/plain": [
       "2"
      ]
     },
     "execution_count": 82,
     "metadata": {},
     "output_type": "execute_result"
    }
   ],
   "source": [
    "index_de_30"
   ]
  },
  {
   "cell_type": "code",
   "execution_count": null,
   "metadata": {
    "colab": {
     "base_uri": "https://localhost:8080/"
    },
    "id": "0ajBNt031B6C",
    "outputId": "0c363fc0-c4ef-432e-8be9-3b9ffb59ebd7"
   },
   "outputs": [
    {
     "data": {
      "text/plain": [
       "30"
      ]
     },
     "execution_count": 83,
     "metadata": {},
     "output_type": "execute_result"
    }
   ],
   "source": [
    "lista_de_precios[index_de_30]"
   ]
  },
  {
   "cell_type": "code",
   "execution_count": null,
   "metadata": {
    "id": "ES-pLkqs1JnF"
   },
   "outputs": [],
   "source": [
    "lista_de_precios.append(\"Python\")"
   ]
  },
  {
   "cell_type": "code",
   "execution_count": null,
   "metadata": {
    "colab": {
     "base_uri": "https://localhost:8080/"
    },
    "id": "b1NjCcRi1OFs",
    "outputId": "2be4fb67-f39a-4a72-d45f-e55a39954838"
   },
   "outputs": [
    {
     "data": {
      "text/plain": [
       "[10, 20, 30, 40, 50, 'Python']"
      ]
     },
     "execution_count": 85,
     "metadata": {},
     "output_type": "execute_result"
    }
   ],
   "source": [
    "lista_de_precios"
   ]
  },
  {
   "cell_type": "code",
   "execution_count": null,
   "metadata": {
    "id": "QVxkn2RZ1PDs"
   },
   "outputs": [],
   "source": [
    "lista_de_precios.remove(\"Python\")"
   ]
  },
  {
   "cell_type": "code",
   "execution_count": null,
   "metadata": {
    "id": "KIhWLaBc1SaX"
   },
   "outputs": [],
   "source": [
    "lista_de_precios.append(10)"
   ]
  },
  {
   "cell_type": "code",
   "execution_count": null,
   "metadata": {
    "colab": {
     "base_uri": "https://localhost:8080/"
    },
    "id": "9Pwsp6OM1WsP",
    "outputId": "52b4b9e0-ce23-4862-fa9b-a74d1adcf454"
   },
   "outputs": [
    {
     "data": {
      "text/plain": [
       "[10, 20, 30, 40, 50, 10, 10, 10]"
      ]
     },
     "execution_count": 91,
     "metadata": {},
     "output_type": "execute_result"
    }
   ],
   "source": [
    "lista_de_precios"
   ]
  },
  {
   "cell_type": "code",
   "execution_count": null,
   "metadata": {
    "colab": {
     "base_uri": "https://localhost:8080/"
    },
    "id": "7hDlkpjr1Xkl",
    "outputId": "d7d1938f-cd93-49ce-9964-a3b5ccb1f20b"
   },
   "outputs": [
    {
     "data": {
      "text/plain": [
       "4"
      ]
     },
     "execution_count": 92,
     "metadata": {},
     "output_type": "execute_result"
    }
   ],
   "source": [
    "lista_de_precios.count(10)"
   ]
  },
  {
   "cell_type": "markdown",
   "metadata": {
    "id": "Qgf3CcQf1pY2"
   },
   "source": [
    "\n",
    "insert"
   ]
  },
  {
   "cell_type": "code",
   "execution_count": null,
   "metadata": {
    "colab": {
     "base_uri": "https://localhost:8080/"
    },
    "id": "58QPQL7B1mcH",
    "outputId": "f232689b-9ff2-48c8-cab3-a13762e0124b"
   },
   "outputs": [
    {
     "data": {
      "text/plain": [
       "[10, 20, 30, 40, 50, 10, 10, 10]"
      ]
     },
     "execution_count": 93,
     "metadata": {},
     "output_type": "execute_result"
    }
   ],
   "source": [
    "lista_de_precios"
   ]
  },
  {
   "cell_type": "code",
   "execution_count": null,
   "metadata": {
    "id": "WOI-igIw1tkf"
   },
   "outputs": [],
   "source": [
    "lista_de_precios.insert(5, 60)"
   ]
  },
  {
   "cell_type": "code",
   "execution_count": null,
   "metadata": {
    "colab": {
     "base_uri": "https://localhost:8080/"
    },
    "id": "vk9dvjNA15dt",
    "outputId": "7f56d8e1-673e-4e94-aedd-99859489ae63"
   },
   "outputs": [
    {
     "data": {
      "text/plain": [
       "[10, 20, 30, 40, 50, 60, 10, 10, 10]"
      ]
     },
     "execution_count": 95,
     "metadata": {},
     "output_type": "execute_result"
    }
   ],
   "source": [
    "lista_de_precios"
   ]
  },
  {
   "cell_type": "code",
   "execution_count": null,
   "metadata": {
    "id": "zN0fHe1316Lt"
   },
   "outputs": [],
   "source": [
    "lista_de_precios.remove(10)"
   ]
  },
  {
   "cell_type": "code",
   "execution_count": null,
   "metadata": {
    "colab": {
     "base_uri": "https://localhost:8080/"
    },
    "id": "w7Cs4-ex2AKz",
    "outputId": "37a92df5-076c-433b-dba3-37bef0b5c5ab"
   },
   "outputs": [
    {
     "data": {
      "text/plain": [
       "[20, 30, 40, 50, 60, 10, 10, 10]"
      ]
     },
     "execution_count": 97,
     "metadata": {},
     "output_type": "execute_result"
    }
   ],
   "source": [
    "lista_de_precios"
   ]
  },
  {
   "cell_type": "markdown",
   "metadata": {
    "id": "5wDT_mqn2IJ_"
   },
   "source": [
    "reverse"
   ]
  },
  {
   "cell_type": "code",
   "execution_count": null,
   "metadata": {
    "id": "Ma8h9SmO2A91"
   },
   "outputs": [],
   "source": [
    "lista_de_precios.reverse()"
   ]
  },
  {
   "cell_type": "code",
   "execution_count": null,
   "metadata": {
    "colab": {
     "base_uri": "https://localhost:8080/"
    },
    "id": "ovBNGYn62M3o",
    "outputId": "b0234d9f-2f7a-4583-d5f1-6fdf6e7adc67"
   },
   "outputs": [
    {
     "data": {
      "text/plain": [
       "[10, 10, 10, 60, 50, 40, 30, 20]"
      ]
     },
     "execution_count": 99,
     "metadata": {},
     "output_type": "execute_result"
    }
   ],
   "source": [
    "lista_de_precios"
   ]
  },
  {
   "cell_type": "markdown",
   "metadata": {
    "id": "BYJkLmYO2fbU"
   },
   "source": [
    "sort"
   ]
  },
  {
   "cell_type": "code",
   "execution_count": null,
   "metadata": {
    "id": "DIDi7hzU2O_P"
   },
   "outputs": [],
   "source": [
    "lista_de_precios.sort()"
   ]
  },
  {
   "cell_type": "code",
   "execution_count": null,
   "metadata": {
    "colab": {
     "base_uri": "https://localhost:8080/"
    },
    "id": "UNUGIw8i2iyu",
    "outputId": "054f415e-a6d0-440c-d58c-132fa78f7b50"
   },
   "outputs": [
    {
     "data": {
      "text/plain": [
       "[10, 10, 10, 20, 30, 40, 50, 60]"
      ]
     },
     "execution_count": 101,
     "metadata": {},
     "output_type": "execute_result"
    }
   ],
   "source": [
    "lista_de_precios"
   ]
  },
  {
   "cell_type": "code",
   "execution_count": null,
   "metadata": {
    "id": "mADOsT_s2jkC"
   },
   "outputs": [],
   "source": [
    "lista_de_precios.sort(reverse=True)"
   ]
  },
  {
   "cell_type": "code",
   "execution_count": null,
   "metadata": {
    "colab": {
     "base_uri": "https://localhost:8080/"
    },
    "id": "BRLWMglL2qoS",
    "outputId": "dc3f7c6f-6473-43e9-dd82-5dd41f6be532"
   },
   "outputs": [
    {
     "data": {
      "text/plain": [
       "[60, 50, 40, 30, 20, 10, 10, 10]"
      ]
     },
     "execution_count": 103,
     "metadata": {},
     "output_type": "execute_result"
    }
   ],
   "source": [
    "lista_de_precios"
   ]
  },
  {
   "cell_type": "markdown",
   "metadata": {
    "id": "pz0ETiVH2wC7"
   },
   "source": [
    "pop"
   ]
  },
  {
   "cell_type": "code",
   "execution_count": null,
   "metadata": {
    "colab": {
     "base_uri": "https://localhost:8080/"
    },
    "id": "F3QjjkFF2rVh",
    "outputId": "f8ca95ef-381d-4fde-e3c1-da06297ac71f"
   },
   "outputs": [
    {
     "data": {
      "text/plain": [
       "10"
      ]
     },
     "execution_count": 104,
     "metadata": {},
     "output_type": "execute_result"
    }
   ],
   "source": [
    "lista_de_precios.pop()"
   ]
  },
  {
   "cell_type": "code",
   "execution_count": null,
   "metadata": {
    "colab": {
     "base_uri": "https://localhost:8080/"
    },
    "id": "MY-N-7xE2_II",
    "outputId": "68d0650b-67bd-42b6-be22-07ff7e9b0f27"
   },
   "outputs": [
    {
     "data": {
      "text/plain": [
       "[60, 50, 40, 30, 20, 10, 10]"
      ]
     },
     "execution_count": 105,
     "metadata": {},
     "output_type": "execute_result"
    }
   ],
   "source": [
    "lista_de_precios"
   ]
  },
  {
   "cell_type": "code",
   "execution_count": null,
   "metadata": {
    "colab": {
     "base_uri": "https://localhost:8080/"
    },
    "id": "wNubPGX_2_vj",
    "outputId": "cd228b4e-229a-4ee2-ede1-82b959609067"
   },
   "outputs": [
    {
     "data": {
      "text/plain": [
       "10"
      ]
     },
     "execution_count": 106,
     "metadata": {},
     "output_type": "execute_result"
    }
   ],
   "source": [
    "lista_de_precios.pop()"
   ]
  },
  {
   "cell_type": "code",
   "execution_count": null,
   "metadata": {
    "colab": {
     "base_uri": "https://localhost:8080/"
    },
    "id": "LL1WXfzF3CED",
    "outputId": "7c1cfd67-9efc-4047-9d34-ec9234c58048"
   },
   "outputs": [
    {
     "data": {
      "text/plain": [
       "[60, 50, 40, 30, 20, 10]"
      ]
     },
     "execution_count": 107,
     "metadata": {},
     "output_type": "execute_result"
    }
   ],
   "source": [
    "lista_de_precios"
   ]
  },
  {
   "cell_type": "code",
   "execution_count": null,
   "metadata": {
    "id": "b4avAznC3C67"
   },
   "outputs": [],
   "source": [
    "lista_de_precios.sort()"
   ]
  },
  {
   "cell_type": "code",
   "execution_count": null,
   "metadata": {
    "colab": {
     "base_uri": "https://localhost:8080/"
    },
    "id": "mbHNtvub3GdD",
    "outputId": "1c597ea3-e922-480b-8480-3b23fcb4a459"
   },
   "outputs": [
    {
     "data": {
      "text/plain": [
       "[10, 20, 30, 40, 50, 60]"
      ]
     },
     "execution_count": 109,
     "metadata": {},
     "output_type": "execute_result"
    }
   ],
   "source": [
    "lista_de_precios"
   ]
  },
  {
   "cell_type": "markdown",
   "metadata": {
    "id": "sfC70qVj3O8l"
   },
   "source": [
    "copy"
   ]
  },
  {
   "cell_type": "code",
   "execution_count": null,
   "metadata": {
    "colab": {
     "base_uri": "https://localhost:8080/"
    },
    "id": "1ZMdvEsY3HIP",
    "outputId": "6bbbf784-4d30-47b3-d67a-aca54d6d386d"
   },
   "outputs": [
    {
     "data": {
      "text/plain": [
       "[10, 20, 30, 40, 50, 60]"
      ]
     },
     "execution_count": 110,
     "metadata": {},
     "output_type": "execute_result"
    }
   ],
   "source": [
    "lista_de_precios.copy()"
   ]
  },
  {
   "cell_type": "markdown",
   "metadata": {
    "id": "cEsx3Qmc3XNh"
   },
   "source": [
    "clear"
   ]
  },
  {
   "cell_type": "code",
   "execution_count": null,
   "metadata": {
    "id": "OtC8ttm43RhV"
   },
   "outputs": [],
   "source": [
    "lista_de_precios.clear()"
   ]
  },
  {
   "cell_type": "code",
   "execution_count": null,
   "metadata": {
    "colab": {
     "base_uri": "https://localhost:8080/"
    },
    "id": "fyqJJS_Q3ZhT",
    "outputId": "5f173ddf-7666-412a-b408-214b9cc70562"
   },
   "outputs": [
    {
     "data": {
      "text/plain": [
       "[]"
      ]
     },
     "execution_count": 112,
     "metadata": {},
     "output_type": "execute_result"
    }
   ],
   "source": [
    "lista_de_precios"
   ]
  },
  {
   "cell_type": "markdown",
   "metadata": {
    "id": "CAgS5kMc3etF"
   },
   "source": [
    "### Tuplas"
   ]
  },
  {
   "cell_type": "code",
   "execution_count": null,
   "metadata": {
    "id": "iRe-MuL63aNs"
   },
   "outputs": [],
   "source": [
    "response = (\"Av. Siempre Viva 300\", \"Buenos Aires\", \"Argentina\")"
   ]
  },
  {
   "cell_type": "code",
   "execution_count": null,
   "metadata": {
    "colab": {
     "base_uri": "https://localhost:8080/"
    },
    "id": "bx36Nfpb3qRZ",
    "outputId": "aed79a8c-84c8-448a-f7fd-a54fc26fa51d"
   },
   "outputs": [
    {
     "data": {
      "text/plain": [
       "tuple"
      ]
     },
     "execution_count": 114,
     "metadata": {},
     "output_type": "execute_result"
    }
   ],
   "source": [
    "type(response)"
   ]
  },
  {
   "cell_type": "code",
   "execution_count": null,
   "metadata": {
    "colab": {
     "base_uri": "https://localhost:8080/"
    },
    "id": "dcCmk6_U3ry6",
    "outputId": "6b58bb51-af62-4f30-c568-448ea4c18f64"
   },
   "outputs": [
    {
     "data": {
      "text/plain": [
       "1"
      ]
     },
     "execution_count": 115,
     "metadata": {},
     "output_type": "execute_result"
    }
   ],
   "source": [
    "response.count(\"Buenos Aires\")"
   ]
  },
  {
   "cell_type": "code",
   "execution_count": null,
   "metadata": {
    "colab": {
     "base_uri": "https://localhost:8080/"
    },
    "id": "ARc5itOm3xpY",
    "outputId": "26f9bc7e-6424-43fb-f99b-cd1639246cea"
   },
   "outputs": [
    {
     "data": {
      "text/plain": [
       "2"
      ]
     },
     "execution_count": 117,
     "metadata": {},
     "output_type": "execute_result"
    }
   ],
   "source": [
    "response.index(\"Argentina\")"
   ]
  },
  {
   "cell_type": "code",
   "execution_count": null,
   "metadata": {
    "colab": {
     "base_uri": "https://localhost:8080/"
    },
    "id": "mfajdGup31C_",
    "outputId": "15530331-8865-4f27-d1d0-52fb3d5cfd15"
   },
   "outputs": [
    {
     "data": {
      "text/plain": [
       "[]"
      ]
     },
     "execution_count": 118,
     "metadata": {},
     "output_type": "execute_result"
    }
   ],
   "source": [
    "lista_de_precios"
   ]
  },
  {
   "cell_type": "code",
   "execution_count": null,
   "metadata": {
    "id": "YHdw-A1k3_p6"
   },
   "outputs": [],
   "source": [
    "lista_de_precios.append(10)"
   ]
  },
  {
   "cell_type": "code",
   "execution_count": null,
   "metadata": {
    "id": "FILedAUX4CQj"
   },
   "outputs": [],
   "source": [
    "lista_de_precios[-1] = \"Hola\""
   ]
  },
  {
   "cell_type": "code",
   "execution_count": null,
   "metadata": {
    "colab": {
     "base_uri": "https://localhost:8080/"
    },
    "id": "LBWUUgeP4FDA",
    "outputId": "1ae9a554-4dcb-4ee9-cee6-39ba0e470541"
   },
   "outputs": [
    {
     "data": {
      "text/plain": [
       "['Hola']"
      ]
     },
     "execution_count": 122,
     "metadata": {},
     "output_type": "execute_result"
    }
   ],
   "source": [
    "lista_de_precios"
   ]
  },
  {
   "cell_type": "code",
   "execution_count": null,
   "metadata": {
    "colab": {
     "base_uri": "https://localhost:8080/",
     "height": 162
    },
    "id": "4tDa9u8L4OjY",
    "outputId": "aed12917-439f-4382-96d0-acb826c150ee"
   },
   "outputs": [
    {
     "ename": "TypeError",
     "evalue": "'tuple' object does not support item assignment",
     "output_type": "error",
     "traceback": [
      "\u001b[0;31m---------------------------------------------------------------------------\u001b[0m",
      "\u001b[0;31mTypeError\u001b[0m                                 Traceback (most recent call last)",
      "\u001b[0;32m<ipython-input-123-0b9d083c5704>\u001b[0m in \u001b[0;36m<cell line: 1>\u001b[0;34m()\u001b[0m\n\u001b[0;32m----> 1\u001b[0;31m \u001b[0mresponse\u001b[0m\u001b[0;34m[\u001b[0m\u001b[0;34m-\u001b[0m\u001b[0;36m1\u001b[0m\u001b[0;34m]\u001b[0m \u001b[0;34m=\u001b[0m \u001b[0;34m\"Hola\"\u001b[0m\u001b[0;34m\u001b[0m\u001b[0;34m\u001b[0m\u001b[0m\n\u001b[0m",
      "\u001b[0;31mTypeError\u001b[0m: 'tuple' object does not support item assignment"
     ]
    }
   ],
   "source": [
    "response[-1] = \"Hola\""
   ]
  },
  {
   "cell_type": "code",
   "execution_count": null,
   "metadata": {
    "colab": {
     "base_uri": "https://localhost:8080/"
    },
    "id": "AXYirjBO4VOD",
    "outputId": "16aca5c1-1ed3-440e-bf1c-9708a254fd9a"
   },
   "outputs": [
    {
     "data": {
      "text/plain": [
       "('Av. Siempre Viva 300', 'Buenos Aires', 'Argentina')"
      ]
     },
     "execution_count": 124,
     "metadata": {},
     "output_type": "execute_result"
    }
   ],
   "source": [
    "response"
   ]
  },
  {
   "cell_type": "code",
   "execution_count": null,
   "metadata": {
    "colab": {
     "base_uri": "https://localhost:8080/"
    },
    "id": "qMv01mxD4dP6",
    "outputId": "be61ddd0-ab3e-4177-dbde-c48978c55724"
   },
   "outputs": [
    {
     "data": {
      "text/plain": [
       "tuple"
      ]
     },
     "execution_count": 125,
     "metadata": {},
     "output_type": "execute_result"
    }
   ],
   "source": [
    "type(response)"
   ]
  },
  {
   "cell_type": "code",
   "execution_count": null,
   "metadata": {
    "id": "SnYnd_Nc4fVT"
   },
   "outputs": [],
   "source": [
    "list_response = list(response)"
   ]
  },
  {
   "cell_type": "code",
   "execution_count": null,
   "metadata": {
    "colab": {
     "base_uri": "https://localhost:8080/"
    },
    "id": "azvxKrhY4pME",
    "outputId": "fd369537-9026-4dbc-db76-52ca3232f71c"
   },
   "outputs": [
    {
     "data": {
      "text/plain": [
       "['Av. Siempre Viva 300', 'Buenos Aires', 'Argentina']"
      ]
     },
     "execution_count": 127,
     "metadata": {},
     "output_type": "execute_result"
    }
   ],
   "source": [
    "list_response"
   ]
  },
  {
   "cell_type": "code",
   "execution_count": null,
   "metadata": {
    "colab": {
     "base_uri": "https://localhost:8080/"
    },
    "id": "etH51fdq4qJM",
    "outputId": "3683394a-a735-4bbf-907b-bed3efa217fd"
   },
   "outputs": [
    {
     "data": {
      "text/plain": [
       "('Av. Siempre Viva 300', 'Buenos Aires', 'Argentina')"
      ]
     },
     "execution_count": 131,
     "metadata": {},
     "output_type": "execute_result"
    }
   ],
   "source": [
    "response"
   ]
  },
  {
   "cell_type": "code",
   "execution_count": null,
   "metadata": {
    "id": "1udgBpiK4tjb"
   },
   "outputs": [],
   "source": [
    "list_response.append(\"Hola\")"
   ]
  },
  {
   "cell_type": "code",
   "execution_count": null,
   "metadata": {
    "colab": {
     "base_uri": "https://localhost:8080/"
    },
    "id": "9iKpJaKl4xMU",
    "outputId": "75e0d557-b5b2-482c-8bd6-03bfc4f288b3"
   },
   "outputs": [
    {
     "data": {
      "text/plain": [
       "['Av. Siempre Viva 300', 'Buenos Aires', 'Argentina', 'Hola']"
      ]
     },
     "execution_count": 130,
     "metadata": {},
     "output_type": "execute_result"
    }
   ],
   "source": [
    "list_response"
   ]
  },
  {
   "cell_type": "code",
   "execution_count": null,
   "metadata": {
    "id": "Z-nDJPUW4yjd"
   },
   "outputs": [],
   "source": [
    "list_response.append(response)"
   ]
  },
  {
   "cell_type": "code",
   "execution_count": null,
   "metadata": {
    "colab": {
     "base_uri": "https://localhost:8080/"
    },
    "id": "CXQzlNWu48FZ",
    "outputId": "07147385-6f71-41ac-f0bd-3e2727eb5a85"
   },
   "outputs": [
    {
     "data": {
      "text/plain": [
       "['Av. Siempre Viva 300',\n",
       " 'Buenos Aires',\n",
       " 'Argentina',\n",
       " 'Hola',\n",
       " ('Av. Siempre Viva 300', 'Buenos Aires', 'Argentina')]"
      ]
     },
     "execution_count": 133,
     "metadata": {},
     "output_type": "execute_result"
    }
   ],
   "source": [
    "list_response"
   ]
  },
  {
   "cell_type": "markdown",
   "metadata": {
    "id": "QLFWy1PN5FdU"
   },
   "source": [
    "Diccionarios"
   ]
  },
  {
   "cell_type": "code",
   "execution_count": null,
   "metadata": {
    "id": "o5AeXCce480m"
   },
   "outputs": [],
   "source": [
    "user = {\n",
    "    \"nombre\": \"Guido\",\n",
    "    \"apellido\": \"Van Rossum\"\n",
    "}"
   ]
  },
  {
   "cell_type": "code",
   "execution_count": null,
   "metadata": {
    "colab": {
     "base_uri": "https://localhost:8080/"
    },
    "id": "K5kaDVuk5jHF",
    "outputId": "af8604ef-9f92-44c1-dc7b-cd33925fae4a"
   },
   "outputs": [
    {
     "data": {
      "text/plain": [
       "{'nombre': 'Guido', 'apellido': 'Van Rossum'}"
      ]
     },
     "execution_count": 166,
     "metadata": {},
     "output_type": "execute_result"
    }
   ],
   "source": [
    "user"
   ]
  },
  {
   "cell_type": "code",
   "execution_count": null,
   "metadata": {
    "colab": {
     "base_uri": "https://localhost:8080/"
    },
    "id": "BOTFlTMw5j2J",
    "outputId": "35068b9d-9482-4015-e58f-63341840af96"
   },
   "outputs": [
    {
     "data": {
      "text/plain": [
       "dict"
      ]
     },
     "execution_count": 153,
     "metadata": {},
     "output_type": "execute_result"
    }
   ],
   "source": [
    "type(user)"
   ]
  },
  {
   "cell_type": "code",
   "execution_count": null,
   "metadata": {
    "colab": {
     "base_uri": "https://localhost:8080/",
     "height": 56
    },
    "id": "TmOm_4U75lti",
    "outputId": "ed25f2c4-b7ba-4051-9e3b-6634bdaa901a"
   },
   "outputs": [
    {
     "data": {
      "application/vnd.google.colaboratory.intrinsic+json": {
       "type": "string"
      },
      "text/plain": [
       "'Van Rossum'"
      ]
     },
     "execution_count": 160,
     "metadata": {},
     "output_type": "execute_result"
    }
   ],
   "source": [
    "user[\"apellido\"]"
   ]
  },
  {
   "cell_type": "code",
   "execution_count": null,
   "metadata": {
    "colab": {
     "base_uri": "https://localhost:8080/"
    },
    "id": "EE4aa0kF5z74",
    "outputId": "5850e9d0-e921-4501-dbaf-a33daef35c08"
   },
   "outputs": [
    {
     "name": "stdout",
     "output_type": "stream",
     "text": [
      "{'nombre': 'Guido', 'apellido': 'Van Rossum'}\n"
     ]
    }
   ],
   "source": [
    "print(user)"
   ]
  },
  {
   "cell_type": "markdown",
   "metadata": {
    "id": "BRqB1CFg7cG8"
   },
   "source": [
    "# Integrando distintos tipos de datos y estructuras de datos en un diccionario"
   ]
  },
  {
   "cell_type": "code",
   "execution_count": null,
   "metadata": {
    "id": "XH5y39Ky6WCA"
   },
   "outputs": [],
   "source": [
    "response_user = {\n",
    "    \"id\": 123,\n",
    "    \"nombre\": \"Guido\",\n",
    "    \"apellido\": \"Van Rossum\",\n",
    "    \"edad\": 66,\n",
    "    \"sexo\": \"H\",\n",
    "    \"es_casado\": False,\n",
    "    \"es_pensionado\": True,\n",
    "    \"localizacion\": {\n",
    "        \"lat\": -34.603722,\n",
    "        \"lon\": -58.381592\n",
    "    },\n",
    "    \"metadata\": {\n",
    "        \"ip\": \"192.168.1.1\",\n",
    "        \"ciudad\": \"Buenos Aires\",\n",
    "        \"pais\": \"Argentina\",\n",
    "        \"paises_visitados\": [\n",
    "            {\n",
    "                \"pais\": \"Argentina\",\n",
    "                \"ciudad\": \"Buenos Aires\",\n",
    "                \"localizacion\": (\"-32.34234\", \"49.21343\")\n",
    "            },\n",
    "            {\n",
    "                \"pais\": \"Brasil\",\n",
    "                \"ciudad\": \"Rio de Janeiro\",\n",
    "                \"localizacion\": (\"-22.34234\", \"43.21343\")\n",
    "            },\n",
    "            {\n",
    "                \"pais\": \"Uruguay\",\n",
    "                \"ciudad\": \"Montevideo\",\n",
    "                \"localizacion:\": (\"-34.603722\", \"-58.381592\")\n",
    "            },\n",
    "            {\n",
    "                \"pais\": \"Chile\",\n",
    "                \"ciudad\": \"Santiago\",\n",
    "                \"localizacion\": (\"-34.603722\", \"-58.381592\")\n",
    "            }\n",
    "        ]\n",
    "    }\n",
    "}"
   ]
  },
  {
   "cell_type": "code",
   "execution_count": null,
   "metadata": {
    "colab": {
     "base_uri": "https://localhost:8080/"
    },
    "id": "qnFbj7iP8Ge6",
    "outputId": "034d366e-e0b3-481e-82e3-cf6f4182e0b9"
   },
   "outputs": [
    {
     "data": {
      "text/plain": [
       "{'id': 123,\n",
       " 'nombre': 'Guido',\n",
       " 'apellido': 'Van Rossum',\n",
       " 'edad': 66,\n",
       " 'sexo': 'H',\n",
       " 'es_casado': False,\n",
       " 'es_pensionado': True,\n",
       " 'localizacion': {'lat': -34.603722, 'lon': -58.381592},\n",
       " 'metadata': {'ip': '192.168.1.1',\n",
       "  'ciudad': 'Buenos Aires',\n",
       "  'pais': 'Argentina',\n",
       "  'paises_visitados': [{'pais': 'Argentina',\n",
       "    'ciudad': 'Buenos Aires',\n",
       "    'localizacion': ('-32.34234', '49.21343')},\n",
       "   {'pais': 'Brasil',\n",
       "    'ciudad': 'Rio de Janeiro',\n",
       "    'localizacion': ('-22.34234', '43.21343')},\n",
       "   {'pais': 'Uruguay',\n",
       "    'ciudad': 'Montevideo',\n",
       "    'localizacion:': ('-34.603722', '-58.381592')},\n",
       "   {'pais': 'Chile',\n",
       "    'ciudad': 'Santiago',\n",
       "    'localizacion': ('-34.603722', '-58.381592')}]}}"
      ]
     },
     "execution_count": 173,
     "metadata": {},
     "output_type": "execute_result"
    }
   ],
   "source": [
    "response_user"
   ]
  },
  {
   "cell_type": "markdown",
   "metadata": {
    "id": "AKh13TSm8vtV"
   },
   "source": [
    "keys"
   ]
  },
  {
   "cell_type": "code",
   "execution_count": null,
   "metadata": {
    "colab": {
     "base_uri": "https://localhost:8080/"
    },
    "id": "enOl7UKU8q0S",
    "outputId": "caee8c5a-57ba-4734-bae5-f791c5fbd685"
   },
   "outputs": [
    {
     "data": {
      "text/plain": [
       "dict_keys(['id', 'nombre', 'apellido', 'edad', 'sexo', 'es_casado', 'es_pensionado', 'localizacion', 'metadata'])"
      ]
     },
     "execution_count": 174,
     "metadata": {},
     "output_type": "execute_result"
    }
   ],
   "source": [
    "response_user.keys()"
   ]
  },
  {
   "cell_type": "markdown",
   "metadata": {
    "id": "Xyh0b_Qj86cU"
   },
   "source": [
    "values"
   ]
  },
  {
   "cell_type": "code",
   "execution_count": null,
   "metadata": {
    "colab": {
     "base_uri": "https://localhost:8080/"
    },
    "id": "qV35vZex8t7S",
    "outputId": "647f2bd2-3b8c-483f-df7f-4072ef98e8e4"
   },
   "outputs": [
    {
     "data": {
      "text/plain": [
       "dict_values([123, 'Guido', 'Van Rossum', 66, 'H', False, True, {'lat': -34.603722, 'lon': -58.381592}, {'ip': '192.168.1.1', 'ciudad': 'Buenos Aires', 'pais': 'Argentina', 'paises_visitados': [{'pais': 'Argentina', 'ciudad': 'Buenos Aires', 'localizacion': ('-32.34234', '49.21343')}, {'pais': 'Brasil', 'ciudad': 'Rio de Janeiro', 'localizacion': ('-22.34234', '43.21343')}, {'pais': 'Uruguay', 'ciudad': 'Montevideo', 'localizacion:': ('-34.603722', '-58.381592')}, {'pais': 'Chile', 'ciudad': 'Santiago', 'localizacion': ('-34.603722', '-58.381592')}]}])"
      ]
     },
     "execution_count": 175,
     "metadata": {},
     "output_type": "execute_result"
    }
   ],
   "source": [
    "response_user.values()"
   ]
  },
  {
   "cell_type": "code",
   "execution_count": null,
   "metadata": {
    "colab": {
     "base_uri": "https://localhost:8080/"
    },
    "id": "HzSrPchi80K4",
    "outputId": "3597b720-f0b3-4a79-dc0b-6b61e5a528a1"
   },
   "outputs": [
    {
     "data": {
      "text/plain": [
       "{'ip': '192.168.1.1',\n",
       " 'ciudad': 'Buenos Aires',\n",
       " 'pais': 'Argentina',\n",
       " 'paises_visitados': [{'pais': 'Argentina',\n",
       "   'ciudad': 'Buenos Aires',\n",
       "   'localizacion': ('-32.34234', '49.21343')},\n",
       "  {'pais': 'Brasil',\n",
       "   'ciudad': 'Rio de Janeiro',\n",
       "   'localizacion': ('-22.34234', '43.21343')},\n",
       "  {'pais': 'Uruguay',\n",
       "   'ciudad': 'Montevideo',\n",
       "   'localizacion:': ('-34.603722', '-58.381592')},\n",
       "  {'pais': 'Chile',\n",
       "   'ciudad': 'Santiago',\n",
       "   'localizacion': ('-34.603722', '-58.381592')}]}"
      ]
     },
     "execution_count": 177,
     "metadata": {},
     "output_type": "execute_result"
    }
   ],
   "source": [
    "response_user[\"metadata\"]"
   ]
  },
  {
   "cell_type": "code",
   "execution_count": null,
   "metadata": {
    "colab": {
     "base_uri": "https://localhost:8080/",
     "height": 56
    },
    "id": "QmoIQDhP8_nQ",
    "outputId": "60dc9d6b-613e-4286-9eaf-752c4eef13da"
   },
   "outputs": [
    {
     "data": {
      "application/vnd.google.colaboratory.intrinsic+json": {
       "type": "string"
      },
      "text/plain": [
       "'192.168.1.1'"
      ]
     },
     "execution_count": 178,
     "metadata": {},
     "output_type": "execute_result"
    }
   ],
   "source": [
    "response_user[\"metadata\"][\"ip\"]"
   ]
  },
  {
   "cell_type": "code",
   "execution_count": null,
   "metadata": {
    "colab": {
     "base_uri": "https://localhost:8080/",
     "height": 56
    },
    "id": "MsS1qqG59DrW",
    "outputId": "2726be80-985c-4a13-c451-80d3755359ad"
   },
   "outputs": [
    {
     "data": {
      "application/vnd.google.colaboratory.intrinsic+json": {
       "type": "string"
      },
      "text/plain": [
       "'Chile'"
      ]
     },
     "execution_count": 181,
     "metadata": {},
     "output_type": "execute_result"
    }
   ],
   "source": [
    "response_user[\"metadata\"][\"paises_visitados\"][-1][\"pais\"]"
   ]
  },
  {
   "cell_type": "code",
   "execution_count": null,
   "metadata": {
    "colab": {
     "base_uri": "https://localhost:8080/"
    },
    "id": "1asWK5gq9M4p",
    "outputId": "254c794c-9dcb-4e36-d87e-a82ae825d3e6"
   },
   "outputs": [
    {
     "name": "stdout",
     "output_type": "stream",
     "text": [
      "100\n"
     ]
    }
   ],
   "source": [
    "def sumar(n1, n2):\n",
    "    suma = n1 + n2\n",
    "    return suma\n",
    "\n",
    "def restar(n1, n2):\n",
    "    resta = n1 - n2\n",
    "    return resta\n",
    "\n",
    "resultado = restar(n2 = 100, n1 = 200)\n",
    "print(resultado)"
   ]
  }
 ],
 "metadata": {
  "colab": {
   "provenance": []
  },
  "kernelspec": {
   "display_name": "Python 3",
   "name": "python3"
  },
  "language_info": {
   "name": "python"
  }
 },
 "nbformat": 4,
 "nbformat_minor": 0
}
